{
 "cells": [
  {
   "cell_type": "code",
   "execution_count": 48,
   "metadata": {},
   "outputs": [],
   "source": [
    "from constants import *"
   ]
  },
  {
   "cell_type": "code",
   "execution_count": 49,
   "metadata": {},
   "outputs": [],
   "source": [
    "def predict_with_onnxruntime(model_def, *inputs):\n",
    "    import onnxruntime as ort\n",
    "\n",
    "    sess = ort.InferenceSession(\n",
    "        model_def.SerializeToString(), providers=[\"CPUExecutionProvider\"]\n",
    "    )\n",
    "    names = [i.name for i in sess.get_inputs()]\n",
    "    dinputs = {name: input for name, input in zip(names, inputs)}\n",
    "    res = sess.run(None, dinputs)\n",
    "    names = [o.name for o in sess.get_outputs()]\n",
    "    return {name: output for name, output in zip(names, res)}\n"
   ]
  },
  {
   "cell_type": "code",
   "execution_count": 50,
   "metadata": {},
   "outputs": [],
   "source": [
    "import torch\n",
    "torch.manual_seed(0)\n",
    "example_x = torch.randn(3, 40)"
   ]
  },
  {
   "cell_type": "markdown",
   "metadata": {},
   "source": [
    "*Example of usage ONNX operator. More can be found here: https://github.com/onnx/onnx/blob/main/docs/Operators.md*"
   ]
  },
  {
   "cell_type": "code",
   "execution_count": 54,
   "metadata": {},
   "outputs": [
    {
     "name": "stdout",
     "output_type": "stream",
     "text": [
      "{'Y': array([[-4.40499276e-01,  1.09044671e-01, -4.59520549e-01,\n",
      "        -1.26826495e-01,  7.37821639e-01,  8.64726782e-01,\n",
      "        -2.48481557e-01, -1.11458504e+00, -1.98938653e-01,\n",
      "         6.37337625e-01, -1.58782840e-01,  1.45416871e-01,\n",
      "        -3.85157555e-01, -3.68657708e-02,  5.64534605e-01,\n",
      "         2.25503054e-02, -5.10013103e-02, -7.70693123e-01,\n",
      "         8.10731888e-01,  1.57462633e+00, -1.18188918e+00,\n",
      "        -1.49523485e+00,  4.16707724e-01,  5.27144134e-01,\n",
      "        -1.73527405e-01,  4.57053542e-01,  1.11249745e-01,\n",
      "         6.48622513e-02,  1.38080365e-03,  1.16248918e+00,\n",
      "         3.60408574e-01, -4.12715286e-01, -2.89290339e-01,\n",
      "         4.71600480e-02, -1.65318042e-01, -4.22524780e-01,\n",
      "        -1.48972511e-01,  4.45227534e-01, -8.49007741e-02,\n",
      "         4.97076124e-01]], dtype=float32)}\n"
     ]
    }
   ],
   "source": [
    "from onnx import helper\n",
    "from onnx import TensorProto\n",
    "\n",
    "mean_1_onx = helper.make_node('ReduceMean', ['X'], ['Y'], axes=[0])\n",
    "\n",
    "mean_1_graph = helper.make_graph(\n",
    "  [mean_1_onx], \n",
    "  'mean_1', \n",
    "  [helper.make_tensor_value_info('X', TensorProto.FLOAT, [None, 40])],\n",
    "  [helper.make_tensor_value_info('Y', TensorProto.FLOAT, [None, 40])]\n",
    "  )\n",
    "original_model = helper.make_model(mean_1_graph, producer_name='onnx-mean', opset_imports=[helper.make_opsetid(\"\", 13)])\n",
    "\n",
    "Y = predict_with_onnxruntime(original_model, example_x.numpy())\n",
    "print(Y)\n",
    "\n",
    "with open(f\"{EXPORTED_MODELS_PATH}/mean_1.onnx\", \"wb\") as f:\n",
    "    f.write(original_model.SerializeToString())"
   ]
  },
  {
   "cell_type": "markdown",
   "metadata": {},
   "source": [
    "*Sklearn substitution:*"
   ]
  },
  {
   "cell_type": "code",
   "execution_count": 56,
   "metadata": {},
   "outputs": [
    {
     "name": "stdout",
     "output_type": "stream",
     "text": [
      "{'Re_reduced0': array([[-4.40499276e-01,  1.09044671e-01, -4.59520549e-01,\n",
      "        -1.26826495e-01,  7.37821639e-01,  8.64726782e-01,\n",
      "        -2.48481557e-01, -1.11458504e+00, -1.98938653e-01,\n",
      "         6.37337625e-01, -1.58782840e-01,  1.45416871e-01,\n",
      "        -3.85157555e-01, -3.68657708e-02,  5.64534605e-01,\n",
      "         2.25503054e-02, -5.10013103e-02, -7.70693123e-01,\n",
      "         8.10731888e-01,  1.57462633e+00, -1.18188918e+00,\n",
      "        -1.49523485e+00,  4.16707724e-01,  5.27144134e-01,\n",
      "        -1.73527405e-01,  4.57053542e-01,  1.11249745e-01,\n",
      "         6.48622513e-02,  1.38080365e-03,  1.16248918e+00,\n",
      "         3.60408574e-01, -4.12715286e-01, -2.89290339e-01,\n",
      "         4.71600480e-02, -1.65318042e-01, -4.22524780e-01,\n",
      "        -1.48972511e-01,  4.45227534e-01, -8.49007741e-02,\n",
      "         4.97076124e-01]], dtype=float32)}\n"
     ]
    },
    {
     "data": {
      "text/plain": [
       "ir_version: 7\n",
       "producer_name: \"skl2onnx\"\n",
       "producer_version: \"1.17.0\"\n",
       "domain: \"ai.onnx\"\n",
       "model_version: 0\n",
       "graph {\n",
       "  node {\n",
       "    input: \"X\"\n",
       "    output: \"Re_reduced0\"\n",
       "    name: \"Re_ReduceMean\"\n",
       "    op_type: \"ReduceMean\"\n",
       "    attribute {\n",
       "      name: \"axes\"\n",
       "      ints: 0\n",
       "      type: INTS\n",
       "    }\n",
       "    domain: \"\"\n",
       "  }\n",
       "  name: \"OnnxReduceMean_13\"\n",
       "  input {\n",
       "    name: \"X\"\n",
       "    type {\n",
       "      tensor_type {\n",
       "        elem_type: 1\n",
       "        shape {\n",
       "          dim {\n",
       "          }\n",
       "          dim {\n",
       "            dim_value: 40\n",
       "          }\n",
       "        }\n",
       "      }\n",
       "    }\n",
       "  }\n",
       "  output {\n",
       "    name: \"Re_reduced0\"\n",
       "    type {\n",
       "      tensor_type {\n",
       "        elem_type: 1\n",
       "        shape {\n",
       "          dim {\n",
       "            dim_value: 1\n",
       "          }\n",
       "          dim {\n",
       "            dim_value: 40\n",
       "          }\n",
       "        }\n",
       "      }\n",
       "    }\n",
       "  }\n",
       "}\n",
       "opset_import {\n",
       "  domain: \"\"\n",
       "  version: 13\n",
       "}"
      ]
     },
     "execution_count": 56,
     "metadata": {},
     "output_type": "execute_result"
    }
   ],
   "source": [
    "from skl2onnx.algebra.onnx_ops import OnnxReduceMean_13\n",
    "\n",
    "mean_onnx = OnnxReduceMean_13('X', axes=[0])\n",
    "onnx_model = mean_onnx.to_onnx({'X': example_x.numpy()})\n",
    "\n",
    "Y = predict_with_onnxruntime(onnx_model, example_x.numpy())\n",
    "print(Y)\n",
    "onnx_model"
   ]
  },
  {
   "cell_type": "code",
   "execution_count": null,
   "metadata": {},
   "outputs": [],
   "source": []
  }
 ],
 "metadata": {
  "kernelspec": {
   "display_name": "base",
   "language": "python",
   "name": "python3"
  },
  "language_info": {
   "codemirror_mode": {
    "name": "ipython",
    "version": 3
   },
   "file_extension": ".py",
   "mimetype": "text/x-python",
   "name": "python",
   "nbconvert_exporter": "python",
   "pygments_lexer": "ipython3",
   "version": "3.11.5"
  }
 },
 "nbformat": 4,
 "nbformat_minor": 2
}
