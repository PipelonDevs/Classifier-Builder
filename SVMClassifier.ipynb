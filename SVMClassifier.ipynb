{
 "cells": [
  {
   "cell_type": "code",
   "execution_count": 34,
   "metadata": {},
   "outputs": [
    {
     "name": "stdout",
     "output_type": "stream",
     "text": [
      "CUDA Available:  False\n",
      "Current Device:  cpu\n"
     ]
    }
   ],
   "source": [
    "import importlib\n",
    "\n",
    "import torch\n",
    "from constants import *\n",
    "import utils\n",
    "importlib.reload(utils)\n",
    "\n",
    "CLASSIFIED_STATES = ['boredom', 'flow', 'frustration', 'neutral']\n",
    "\n",
    "print(\"CUDA Available: \", torch.cuda.is_available())\n",
    "device = torch.device(\"cuda\" if torch.cuda.is_available() else \"cpu\")\n",
    "print(\"Current Device: \", device)"
   ]
  },
  {
   "cell_type": "code",
   "execution_count": 40,
   "metadata": {},
   "outputs": [
    {
     "data": {
      "text/plain": [
       "(torch.Size([5832, 25, 40]), torch.Size([5832, 4]))"
      ]
     },
     "execution_count": 40,
     "metadata": {},
     "output_type": "execute_result"
    }
   ],
   "source": [
    "X_train_init, y_train_init = utils.load_testing_data(CLASSIFIED_STATES)\n",
    "X_train_init.shape, y_train_init.shape"
   ]
  },
  {
   "cell_type": "code",
   "execution_count": 41,
   "metadata": {},
   "outputs": [
    {
     "data": {
      "text/plain": [
       "(torch.Size([5832, 40]), torch.Size([5832, 4]))"
      ]
     },
     "execution_count": 41,
     "metadata": {},
     "output_type": "execute_result"
    }
   ],
   "source": [
    "X_train = X_train_init.mean(axis=1) # [:100, :]\n",
    "y_train = y_train_init # [:100, :]\n",
    "X_train.shape, y_train.shape"
   ]
  },
  {
   "cell_type": "code",
   "execution_count": 38,
   "metadata": {},
   "outputs": [
    {
     "name": "stdout",
     "output_type": "stream",
     "text": [
      "Training for boredom\n",
      "Training for flow\n",
      "Training for frustration\n",
      "Training for neutral\n"
     ]
    }
   ],
   "source": [
    "from sklearn.svm import SVC\n",
    "from skl2onnx import to_onnx\n",
    "from skl2onnx.common.data_types import FloatTensorType\n",
    "from skl2onnx.helpers.onnx_helper import select_model_inputs_outputs\n",
    "\n",
    "svm = None\n",
    "svm_onnx = None\n",
    "for i, y_class in enumerate(CLASSIFIED_STATES):\n",
    "    print(f\"Training for {y_class}\")\n",
    "    svm = SVC(kernel='linear', C=1.0, random_state=42, probability=True) \n",
    "    y = y_train[:, i]\n",
    "    svm.fit(X_train, y)\n",
    "\n",
    "    # export to onnx\n",
    "    initial_type = [('Z', FloatTensorType([None, X_train.shape[1]]))]\n",
    "    svm_onnx = to_onnx(svm, X_train, initial_types=initial_type)\n",
    "    svm_onnx = select_model_inputs_outputs(svm_onnx, outputs=['probabilities'])\n",
    "\n",
    "    with open(f\"{EXPORTED_MODELS_PATH}/svm_{y_class}.onnx\", \"wb\") as f:\n",
    "        f.write(svm_onnx.SerializeToString())\n",
    "        "
   ]
  },
  {
   "cell_type": "markdown",
   "metadata": {},
   "source": [
    "### Validate the results and compatre onnx with sklearn"
   ]
  },
  {
   "cell_type": "code",
   "execution_count": 39,
   "metadata": {},
   "outputs": [
    {
     "name": "stdout",
     "output_type": "stream",
     "text": [
      "input=Z, output=['probabilities']\n",
      "onnx pred: [array([[0.8026046 , 0.19739535],\n",
      "       [0.86141944, 0.13858062],\n",
      "       [0.8250284 , 0.17497148]], dtype=float32)]\n",
      "sklearn pred: [[0.80259995 0.19740005]\n",
      " [0.86142192 0.13857808]\n",
      " [0.82503909 0.17496091]]\n"
     ]
    }
   ],
   "source": [
    "# % pip install onnxruntime==1.18.1\n",
    "import onnxruntime as rt\n",
    "import numpy as np\n",
    "\n",
    "example_x = X_train[y_train[:, 0] == 1][:3, :] # boredom has index 0\n",
    "print(example_x.shape)\n",
    "\n",
    "session = rt.InferenceSession(f\"{EXPORTED_MODELS_PATH}/svm_neutral.onnx\", providers=[\"CPUExecutionProvider\"])\n",
    "input_name = session.get_inputs()[0].name\n",
    "label_name = [o.name for o in session.get_outputs()]\n",
    "\n",
    "print(f'input={input_name}, output={label_name}')\n",
    "\n",
    "print(f'onnx pred: {session.run(label_name, {input_name: example_x.numpy().astype(np.float32)})}')\n",
    "print(f'sklearn pred: {svm.predict_proba(example_x)}')"
   ]
  },
  {
   "cell_type": "code",
   "execution_count": null,
   "metadata": {},
   "outputs": [],
   "source": []
  }
 ],
 "metadata": {
  "kernelspec": {
   "display_name": "base",
   "language": "python",
   "name": "python3"
  },
  "language_info": {
   "codemirror_mode": {
    "name": "ipython",
    "version": 3
   },
   "file_extension": ".py",
   "mimetype": "text/x-python",
   "name": "python",
   "nbconvert_exporter": "python",
   "pygments_lexer": "ipython3",
   "version": "3.11.5"
  }
 },
 "nbformat": 4,
 "nbformat_minor": 2
}
