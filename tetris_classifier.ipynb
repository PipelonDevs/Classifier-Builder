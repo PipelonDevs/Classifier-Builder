{
 "cells": [
  {
   "cell_type": "code",
   "execution_count": 1,
   "metadata": {},
   "outputs": [
    {
     "data": {
      "text/plain": [
       "<module 'utils' from '/mnt/cb8c2a81-32e7-40bc-af74-0c1386cda683/programowanie/pipelon/Classifier-Builder/utils.py'>"
      ]
     },
     "execution_count": 1,
     "metadata": {},
     "output_type": "execute_result"
    }
   ],
   "source": [
    "import importlib\n",
    "import numpy as np\n",
    "\n",
    "from constants import *\n",
    "import utils\n",
    "importlib.reload(utils)"
   ]
  },
  {
   "cell_type": "code",
   "execution_count": 2,
   "metadata": {},
   "outputs": [
    {
     "data": {
      "text/plain": [
       "((10000, 20), (3000,))"
      ]
     },
     "execution_count": 2,
     "metadata": {},
     "output_type": "execute_result"
    }
   ],
   "source": [
    "x_train, y_train = utils.new_load_data('training')\n",
    "x_test, y_test = utils.new_load_data('testing')\n",
    "\n",
    "x_train, y_train = x_train[:10000], y_train[:10000]\n",
    "x_test, y_test = x_test[:3000], y_test[:3000]\n",
    "\n",
    "x_train.shape, y_test.shape"
   ]
  },
  {
   "cell_type": "code",
   "execution_count": 3,
   "metadata": {},
   "outputs": [
    {
     "name": "stdout",
     "output_type": "stream",
     "text": [
      "Classes: ['boredom', 'neutral']\n",
      "Class distribution for train: (array([1., 2.]), array([4969, 5031]))\n",
      "Class distribution for test: (array([1., 2.]), array([1492, 1508]))\n"
     ]
    }
   ],
   "source": [
    "print(f\"Classes: {STATES}\")\n",
    "print(f\"Class distribution for train: {np.unique(y_train, return_counts=True)}\")\n",
    "print(f\"Class distribution for test: {np.unique(y_test, return_counts=True)}\")"
   ]
  },
  {
   "cell_type": "code",
   "execution_count": 4,
   "metadata": {},
   "outputs": [
    {
     "name": "stdout",
     "output_type": "stream",
     "text": [
      "[LibSVM]................................................................................................................................*................................................*......................................................................................................................................*........................................................................................................................................................................*..............................................................................................................................................................................................................................*......................................................................................................................................................................................................................................................................................................................................................*.........................................................................................................................................*.....*...........................................*\n",
      "optimization finished, #iter = 1223136\n",
      "obj = -5398.752129, rho = 0.103684\n",
      "nSV = 5827, nBSV = 5720\n",
      "Total nSV = 5827\n",
      ".....................................................................................................................................................*...........................................*.............................................................................................................................................................................................................................................*.........................................................................................................................................................................*.....................................................................................*\n",
      "optimization finished, #iter = 682094\n",
      "obj = -5356.080297, rho = 0.207331\n",
      "nSV = 5786, nBSV = 5680\n",
      "Total nSV = 5786\n",
      ".............................................................................................................................*...................................................*..............................................................................................................................................................................................................................................*...............................................................................................................................................................................................................................*.........................................................................................................................................................................................................................................................................................................................................................................................................................*.............................................................................................................................................................................*\n",
      "optimization finished, #iter = 1217423\n",
      "obj = -5385.459843, rho = 0.239018\n",
      "nSV = 5828, nBSV = 5715\n",
      "Total nSV = 5828\n",
      "........................................................................................................*................................*.................................................................................................................................................................................................*...............................................................................................................................................................................*.......................................................................................................................................................................................................................................................................................................................*............................................................................................................................................................................................................................*........*\n",
      "optimization finished, #iter = 1040303\n",
      "obj = -5344.565445, rho = 0.164020\n",
      "nSV = 5778, nBSV = 5669\n",
      "Total nSV = 5778\n",
      ".................................................................................................................................................*..................................................*......................................................................................................................................................................*.......................................................................................................................................................................................................................................................................................*.......................................................................................................................................................................................................................................................................................................................................................................................................................................................................................................................................................................................................*.......................................................................................................................................................................................................................................................................................*\n",
      "optimization finished, #iter = 1501400\n",
      "obj = -5371.099093, rho = 0.077854\n",
      "nSV = 5808, nBSV = 5690\n",
      "Total nSV = 5808\n",
      "...........................................................................................................................................*.........................................................................*...........................................................................................................................................................................................................................................................................................*...............................................................................................................................................................................................................................................................................................................................................................................................................................................................................................................................*...........................................................................................................................................................................................................................................................................................................................................................................................................................................................................................................................................................................................................................................................................................................................................................*....................................................................................................................................................................................................................................................................................................*\n",
      "optimization finished, #iter = 2027140\n",
      "obj = -6634.446856, rho = -0.192093\n",
      "nSV = 7173, nBSV = 7053\n",
      "Total nSV = 7173\n"
     ]
    },
    {
     "data": {
      "text/html": [
       "<style>#sk-container-id-1 {color: black;}#sk-container-id-1 pre{padding: 0;}#sk-container-id-1 div.sk-toggleable {background-color: white;}#sk-container-id-1 label.sk-toggleable__label {cursor: pointer;display: block;width: 100%;margin-bottom: 0;padding: 0.3em;box-sizing: border-box;text-align: center;}#sk-container-id-1 label.sk-toggleable__label-arrow:before {content: \"▸\";float: left;margin-right: 0.25em;color: #696969;}#sk-container-id-1 label.sk-toggleable__label-arrow:hover:before {color: black;}#sk-container-id-1 div.sk-estimator:hover label.sk-toggleable__label-arrow:before {color: black;}#sk-container-id-1 div.sk-toggleable__content {max-height: 0;max-width: 0;overflow: hidden;text-align: left;background-color: #f0f8ff;}#sk-container-id-1 div.sk-toggleable__content pre {margin: 0.2em;color: black;border-radius: 0.25em;background-color: #f0f8ff;}#sk-container-id-1 input.sk-toggleable__control:checked~div.sk-toggleable__content {max-height: 200px;max-width: 100%;overflow: auto;}#sk-container-id-1 input.sk-toggleable__control:checked~label.sk-toggleable__label-arrow:before {content: \"▾\";}#sk-container-id-1 div.sk-estimator input.sk-toggleable__control:checked~label.sk-toggleable__label {background-color: #d4ebff;}#sk-container-id-1 div.sk-label input.sk-toggleable__control:checked~label.sk-toggleable__label {background-color: #d4ebff;}#sk-container-id-1 input.sk-hidden--visually {border: 0;clip: rect(1px 1px 1px 1px);clip: rect(1px, 1px, 1px, 1px);height: 1px;margin: -1px;overflow: hidden;padding: 0;position: absolute;width: 1px;}#sk-container-id-1 div.sk-estimator {font-family: monospace;background-color: #f0f8ff;border: 1px dotted black;border-radius: 0.25em;box-sizing: border-box;margin-bottom: 0.5em;}#sk-container-id-1 div.sk-estimator:hover {background-color: #d4ebff;}#sk-container-id-1 div.sk-parallel-item::after {content: \"\";width: 100%;border-bottom: 1px solid gray;flex-grow: 1;}#sk-container-id-1 div.sk-label:hover label.sk-toggleable__label {background-color: #d4ebff;}#sk-container-id-1 div.sk-serial::before {content: \"\";position: absolute;border-left: 1px solid gray;box-sizing: border-box;top: 0;bottom: 0;left: 50%;z-index: 0;}#sk-container-id-1 div.sk-serial {display: flex;flex-direction: column;align-items: center;background-color: white;padding-right: 0.2em;padding-left: 0.2em;position: relative;}#sk-container-id-1 div.sk-item {position: relative;z-index: 1;}#sk-container-id-1 div.sk-parallel {display: flex;align-items: stretch;justify-content: center;background-color: white;position: relative;}#sk-container-id-1 div.sk-item::before, #sk-container-id-1 div.sk-parallel-item::before {content: \"\";position: absolute;border-left: 1px solid gray;box-sizing: border-box;top: 0;bottom: 0;left: 50%;z-index: -1;}#sk-container-id-1 div.sk-parallel-item {display: flex;flex-direction: column;z-index: 1;position: relative;background-color: white;}#sk-container-id-1 div.sk-parallel-item:first-child::after {align-self: flex-end;width: 50%;}#sk-container-id-1 div.sk-parallel-item:last-child::after {align-self: flex-start;width: 50%;}#sk-container-id-1 div.sk-parallel-item:only-child::after {width: 0;}#sk-container-id-1 div.sk-dashed-wrapped {border: 1px dashed gray;margin: 0 0.4em 0.5em 0.4em;box-sizing: border-box;padding-bottom: 0.4em;background-color: white;}#sk-container-id-1 div.sk-label label {font-family: monospace;font-weight: bold;display: inline-block;line-height: 1.2em;}#sk-container-id-1 div.sk-label-container {text-align: center;}#sk-container-id-1 div.sk-container {/* jupyter's `normalize.less` sets `[hidden] { display: none; }` but bootstrap.min.css set `[hidden] { display: none !important; }` so we also need the `!important` here to be able to override the default hidden behavior on the sphinx rendered scikit-learn.org. See: https://github.com/scikit-learn/scikit-learn/issues/21755 */display: inline-block !important;position: relative;}#sk-container-id-1 div.sk-text-repr-fallback {display: none;}</style><div id=\"sk-container-id-1\" class=\"sk-top-container\"><div class=\"sk-text-repr-fallback\"><pre>SVC(C=1, kernel=&#x27;poly&#x27;, probability=True, random_state=42, verbose=True)</pre><b>In a Jupyter environment, please rerun this cell to show the HTML representation or trust the notebook. <br />On GitHub, the HTML representation is unable to render, please try loading this page with nbviewer.org.</b></div><div class=\"sk-container\" hidden><div class=\"sk-item\"><div class=\"sk-estimator sk-toggleable\"><input class=\"sk-toggleable__control sk-hidden--visually\" id=\"sk-estimator-id-1\" type=\"checkbox\" checked><label for=\"sk-estimator-id-1\" class=\"sk-toggleable__label sk-toggleable__label-arrow\">SVC</label><div class=\"sk-toggleable__content\"><pre>SVC(C=1, kernel=&#x27;poly&#x27;, probability=True, random_state=42, verbose=True)</pre></div></div></div></div></div>"
      ],
      "text/plain": [
       "SVC(C=1, kernel='poly', probability=True, random_state=42, verbose=True)"
      ]
     },
     "execution_count": 4,
     "metadata": {},
     "output_type": "execute_result"
    }
   ],
   "source": [
    "from sklearn.svm import SVC\n",
    "\n",
    "svm = SVC(verbose=True, kernel='poly', degree=3, C=1, random_state=42, decision_function_shape='ovr', probability=True)\n",
    "svm.fit(x_train, y_train)"
   ]
  },
  {
   "cell_type": "code",
   "execution_count": 5,
   "metadata": {},
   "outputs": [
    {
     "name": "stdout",
     "output_type": "stream",
     "text": [
      "accuracy: 0.7246666666666667\n",
      "Confusion Matrix:\n",
      "+-----------------+--------------------+--------------------+\n",
      "|                 | Predicted: boredom | Predicted: neutral |\n",
      "+-----------------+--------------------+--------------------+\n",
      "| Actual: boredom |        1223        |        269         |\n",
      "| Actual: neutral |        557         |        951         |\n",
      "+-----------------+--------------------+--------------------+\n",
      "\n",
      "Classification Report:\n",
      "+--------------+-----------+--------+----------+---------+\n",
      "|              | precision | recall | f1-score | support |\n",
      "+--------------+-----------+--------+----------+---------+\n",
      "|   boredom    |   0.687   |  0.82  |  0.748   | 1492.0  |\n",
      "|   neutral    |   0.78    | 0.631  |  0.697   | 1508.0  |\n",
      "|   accuracy   |   0.725   | 0.725  |  0.725   |  0.725  |\n",
      "|  macro avg   |   0.733   | 0.725  |  0.722   | 3000.0  |\n",
      "| weighted avg |   0.734   | 0.725  |  0.722   | 3000.0  |\n",
      "+--------------+-----------+--------+----------+---------+\n"
     ]
    }
   ],
   "source": [
    "print('accuracy:', svm.score(x_test, y_test))\n",
    "\n",
    "from sklearn.metrics import classification_report, confusion_matrix\n",
    "y_pred = svm.predict(x_test)\n",
    "\n",
    "utils.present_confusion_matrix(confusion_matrix(y_test, y_pred))\n",
    "utils.present_metrics(classification_report(y_test, y_pred, target_names=STATES, output_dict=True))"
   ]
  },
  {
   "cell_type": "code",
   "execution_count": 6,
   "metadata": {},
   "outputs": [],
   "source": [
    "from skl2onnx import to_onnx\n",
    "onx = to_onnx(svm, x_train[:1].astype(np.float32), target_opset=12)\n",
    "with open(\"./exported_models/tetris-boredom-neutral.onnx\", \"wb\") as f:\n",
    "    f.write(onx.SerializeToString())"
   ]
  }
 ],
 "metadata": {
  "kernelspec": {
   "display_name": "base",
   "language": "python",
   "name": "python3"
  },
  "language_info": {
   "codemirror_mode": {
    "name": "ipython",
    "version": 3
   },
   "file_extension": ".py",
   "mimetype": "text/x-python",
   "name": "python",
   "nbconvert_exporter": "python",
   "pygments_lexer": "ipython3",
   "version": "3.11.5"
  }
 },
 "nbformat": 4,
 "nbformat_minor": 2
}
