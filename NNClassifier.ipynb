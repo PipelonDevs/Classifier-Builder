{
 "cells": [
  {
   "cell_type": "code",
   "execution_count": 1,
   "metadata": {},
   "outputs": [],
   "source": [
    "import importlib\n",
    "\n",
    "import torch\n",
    "import torch.nn as nn\n",
    "import torch.optim as optim\n",
    " \n",
    "from constants import *\n",
    "import utils\n",
    "importlib.reload(utils)\n",
    "\n",
    "CLASSIFIED_STATES = ['boredom', 'flow', 'frustration', 'neutral']\n",
    "\n",
    "HIDDEN_SIZE = len(DATA_COLUMNS)\n",
    "OUTPUT_SIZE = len(CLASSIFIED_STATES)"
   ]
  },
  {
   "cell_type": "code",
   "execution_count": 42,
   "metadata": {},
   "outputs": [],
   "source": [
    "class MentalStateClassifier(nn.Module):\n",
    "  def __init__(self):\n",
    "    super().__init__()\n",
    "    self.input = nn.Linear(HIDDEN_SIZE, HIDDEN_SIZE)    \n",
    "    self.output = nn.Linear(HIDDEN_SIZE, OUTPUT_SIZE)\n",
    "    \n",
    "    self.softmax = nn.Softmax(dim=1)\n",
    "    self.dropout = nn.Dropout(p=0.2)\n",
    "    self.relu = nn.ReLU()\n",
    "\n",
    "  def forward(self, x): # (1, 25, 40) -> (1, 4)\n",
    "    x = x.mean(dim=1) # Average 1 second of data \n",
    "    \n",
    "    x = self.dropout(x)\n",
    "    x = self.input(x)\n",
    "    x = self.relu(x) \n",
    "    x = self.output(x)\n",
    "    x = self.softmax(x)\n",
    "\n",
    "    if not self.training:\n",
    "      x = torch.round(x, decimals=3)\n",
    "    return x\n",
    "    \n",
    "model = MentalStateClassifier()\n",
    " \n",
    "loss_fn = nn.CrossEntropyLoss()\n",
    "optimizer = optim.Adam(model.parameters(), lr=0.001)"
   ]
  },
  {
   "cell_type": "code",
   "execution_count": 43,
   "metadata": {},
   "outputs": [],
   "source": [
    "n_epochs = 2\n",
    "batch_size = 8\n",
    "n_batches = utils.getTrainingRowNum(CLASSIFIED_STATES) // SAMPLING_RATE // batch_size - 20"
   ]
  },
  {
   "cell_type": "code",
   "execution_count": 44,
   "metadata": {},
   "outputs": [
    {
     "name": "stderr",
     "output_type": "stream",
     "text": [
      "Epoch 0: 100%|██████████| 2896/2896 [00:20<00:00, 141.63batch/s, acc=1, loss=1.49] \n"
     ]
    },
    {
     "name": "stdout",
     "output_type": "stream",
     "text": [
      "Epoch 0 validation: Cross-entropy=1.4833, Accuracy=0.2605\n"
     ]
    },
    {
     "name": "stderr",
     "output_type": "stream",
     "text": [
      "Epoch 1: 100%|██████████| 2896/2896 [00:20<00:00, 140.08batch/s, acc=1, loss=1.37] \n"
     ]
    },
    {
     "name": "stdout",
     "output_type": "stream",
     "text": [
      "Epoch 1 validation: Cross-entropy=1.4835, Accuracy=0.2603\n"
     ]
    },
    {
     "data": {
      "text/plain": [
       "<All keys matched successfully>"
      ]
     },
     "execution_count": 44,
     "metadata": {},
     "output_type": "execute_result"
    }
   ],
   "source": [
    "import copy\n",
    "import tqdm\n",
    "import numpy as np\n",
    "importlib.reload(utils)\n",
    "\n",
    "best_acc = - np.inf\n",
    "best_weights = None\n",
    "train_loss_hist = []\n",
    "train_acc_hist = []\n",
    "test_loss_hist = []\n",
    "test_acc_hist = []\n",
    "X_batch = None # for exporting to ONNX\n",
    "\n",
    "for epoch in range(n_epochs):\n",
    "  epoch_loss = []\n",
    "  epoch_acc = []\n",
    "  model.train() # set model to training mode\n",
    "  data_loader = utils.lazy_load_training_data(states=CLASSIFIED_STATES)\n",
    "\n",
    "  X_train, y_train = next(data_loader)\n",
    "\n",
    "  with tqdm.trange(n_batches, unit=\"batch\", mininterval=0) as bar:\n",
    "    bar.set_description(f\"Epoch {epoch}\")\n",
    "    j = 0\n",
    "    for i in bar:\n",
    "      start = j * batch_size\n",
    "      if start + batch_size >= len(X_train):\n",
    "        j = 0\n",
    "        start = 0\n",
    "        X_train, y_train = next(data_loader)\n",
    "      \n",
    "      j += 1\n",
    "      X_batch = X_train[start:start+batch_size]\n",
    "      y_batch = y_train[start:start+batch_size] \n",
    "\n",
    "      # forward pass\n",
    "      y_pred = model(X_batch)\n",
    "      loss = loss_fn(y_pred, y_batch)\n",
    "      \n",
    "      # backward pass\n",
    "      optimizer.zero_grad()\n",
    "      loss.backward()\n",
    "      # update weights\n",
    "      optimizer.step()\n",
    "      # compute and store metrics\n",
    "      acc = (torch.argmax(y_pred) == torch.argmax(y_batch)).float().mean()\n",
    "      epoch_loss.append(float(loss))\n",
    "      epoch_acc.append(float(acc))\n",
    "      bar.set_postfix(\n",
    "          loss=float(loss),\n",
    "          acc=float(acc)\n",
    "      )\n",
    "  model.eval()\n",
    "  X_test, y_test = utils.load_testing_data(states=CLASSIFIED_STATES)\n",
    "  y_pred = model(X_test)\n",
    "  ce = loss_fn(y_pred, y_test)\n",
    "  acc = (torch.argmax(y_pred, 1) == torch.argmax(y_test, 1)).float().mean()\n",
    "  ce = float(ce)\n",
    "  acc = float(acc)\n",
    "  train_loss_hist.append(np.mean(epoch_loss))\n",
    "  train_acc_hist.append(np.mean(epoch_acc))\n",
    "  test_loss_hist.append(ce)\n",
    "  test_acc_hist.append(acc)\n",
    "  if acc > best_acc:\n",
    "      best_acc = acc\n",
    "      best_weights = copy.deepcopy(model.state_dict())\n",
    "  print(f\"Epoch {epoch} validation: Cross-entropy={round(ce, 4)}, Accuracy={round(acc, 4)}\")\n",
    "\n",
    "model.load_state_dict(best_weights)"
   ]
  },
  {
   "cell_type": "code",
   "execution_count": 45,
   "metadata": {},
   "outputs": [
    {
     "data": {
      "text/plain": [
       "(tensor([[1., 0., 0., 0.],\n",
       "         [1., 0., 0., 0.],\n",
       "         [1., 0., 0., 0.],\n",
       "         [1., 0., 0., 0.],\n",
       "         [1., 0., 0., 0.],\n",
       "         [1., 0., 0., 0.],\n",
       "         [1., 0., 0., 0.],\n",
       "         [1., 0., 0., 0.]], grad_fn=<RoundBackward1>),\n",
       " torch.Size([8, 25, 40]))"
      ]
     },
     "execution_count": 45,
     "metadata": {},
     "output_type": "execute_result"
    }
   ],
   "source": [
    "torch.round(model(X_batch), decimals=3), X_batch.shape"
   ]
  },
  {
   "cell_type": "code",
   "execution_count": 47,
   "metadata": {},
   "outputs": [],
   "source": [
    "# %pip install onnx onnxscript\n",
    "# %pip install onnxruntime\n",
    "\n",
    "torch.onnx.export(model,                       # model being run\n",
    "                  X_batch,                         # model input (or a tuple for multiple inputs)\n",
    "                  './exported_models/bnnm-NN-001.onnx',            # where to save the model (can be a file or file-like object)\n",
    "                  export_params=True,        # store the trained parameter weights inside the model file\n",
    "                  do_constant_folding=True,  # whether to execute constant folding for optimization\n",
    "                  input_names = ['X'],       # the model's input names\n",
    "                  output_names = ['Y']       # the model's output names\n",
    "                  )"
   ]
  },
  {
   "cell_type": "code",
   "execution_count": null,
   "metadata": {},
   "outputs": [],
   "source": []
  }
 ],
 "metadata": {
  "kernelspec": {
   "display_name": "base",
   "language": "python",
   "name": "python3"
  },
  "language_info": {
   "codemirror_mode": {
    "name": "ipython",
    "version": 3
   },
   "file_extension": ".py",
   "mimetype": "text/x-python",
   "name": "python",
   "nbconvert_exporter": "python",
   "pygments_lexer": "ipython3",
   "version": "3.11.5"
  }
 },
 "nbformat": 4,
 "nbformat_minor": 2
}
