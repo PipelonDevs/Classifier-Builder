{
 "cells": [
  {
   "cell_type": "code",
   "execution_count": 123,
   "metadata": {},
   "outputs": [
    {
     "name": "stdout",
     "output_type": "stream",
     "text": [
      "CUDA Available:  False\n",
      "Current Device:  cpu\n"
     ]
    }
   ],
   "source": [
    "import importlib\n",
    "\n",
    "import torch\n",
    "from constants import *\n",
    "import utils\n",
    "importlib.reload(utils)\n",
    "\n",
    "CLASSIFIED_STATES = ['boredom', 'flow', 'frustration', 'neutral']\n",
    "\n",
    "print(\"CUDA Available: \", torch.cuda.is_available())\n",
    "device = torch.device(\"cuda\" if torch.cuda.is_available() else \"cpu\")\n",
    "print(\"Current Device: \", device)"
   ]
  },
  {
   "cell_type": "code",
   "execution_count": 53,
   "metadata": {},
   "outputs": [
    {
     "data": {
      "text/plain": [
       "(torch.Size([5832, 25, 40]), torch.Size([5832, 4]))"
      ]
     },
     "execution_count": 53,
     "metadata": {},
     "output_type": "execute_result"
    }
   ],
   "source": [
    "X_train_init, y_train_init = utils.load_testing_data(CLASSIFIED_STATES)\n",
    "X_train_init.shape, y_train_init.shape"
   ]
  },
  {
   "cell_type": "code",
   "execution_count": 5,
   "metadata": {},
   "outputs": [
    {
     "data": {
      "text/plain": [
       "(torch.Size([5832, 40]), torch.Size([5832, 4]))"
      ]
     },
     "execution_count": 5,
     "metadata": {},
     "output_type": "execute_result"
    }
   ],
   "source": [
    "X_train = X_train_init.mean(axis=1) # [:100, :]\n",
    "y_train = y_train_init # [:100, :]\n",
    "X_train.shape, y_train.shape"
   ]
  },
  {
   "cell_type": "code",
   "execution_count": 6,
   "metadata": {},
   "outputs": [
    {
     "name": "stdout",
     "output_type": "stream",
     "text": [
      "Training for boredom\n",
      "Training for flow\n",
      "Training for frustration\n",
      "Training for neutral\n"
     ]
    }
   ],
   "source": [
    "from sklearn.svm import SVC\n",
    "from skl2onnx import to_onnx\n",
    "from skl2onnx.common.data_types import FloatTensorType\n",
    "from skl2onnx.helpers.onnx_helper import select_model_inputs_outputs\n",
    "\n",
    "svm = None\n",
    "svm_onnx = None\n",
    "for i, y_class in enumerate(CLASSIFIED_STATES):\n",
    "    print(f\"Training for {y_class}\")\n",
    "    svm = SVC(kernel='linear', C=1.0, random_state=42, probability=True) \n",
    "    y = y_train[:, i]\n",
    "    svm.fit(X_train, y)\n",
    "\n",
    "    # export to onnx\n",
    "    initial_type = [('X', FloatTensorType([None, X_train.shape[1]]))]\n",
    "    svm_onnx = to_onnx(svm, X_train, initial_types=initial_type)\n",
    "    svm_onnx = select_model_inputs_outputs(svm_onnx, outputs=['probabilities'])\n",
    "\n",
    "    with open(f\"{EXPORTED_MODELS_PATH}/svm_{y_class}.onnx\", \"wb\") as f:\n",
    "        f.write(svm_onnx.SerializeToString())\n",
    "        "
   ]
  },
  {
   "cell_type": "markdown",
   "metadata": {},
   "source": [
    "### Validate the results and compatre onnx with sklearn"
   ]
  },
  {
   "cell_type": "code",
   "execution_count": 8,
   "metadata": {},
   "outputs": [
    {
     "name": "stdout",
     "output_type": "stream",
     "text": [
      "torch.Size([3, 40])\n",
      "input=Z, output=['probabilities']\n",
      "onnx pred: [array([[6.8857718e-01, 3.1142274e-01],\n",
      "       [9.9994624e-01, 5.3766275e-05],\n",
      "       [7.8322035e-01, 2.1677954e-01]], dtype=float32)]\n",
      "sklearn pred: [[0.73132052 0.26867948]\n",
      " [0.90191387 0.09808613]\n",
      " [0.93983349 0.06016651]]\n"
     ]
    }
   ],
   "source": [
    "# % pip install onnxruntime==1.18.1\n",
    "import onnxruntime as rt\n",
    "import numpy as np\n",
    "\n",
    "example_x = X_train[y_train[:, 0] == 1][:3, :] # boredom has index 0\n",
    "print(example_x.shape)\n",
    "\n",
    "session = rt.InferenceSession(f\"{EXPORTED_MODELS_PATH}/svm_neutral.onnx\", providers=[\"CPUExecutionProvider\"])\n",
    "input_name = session.get_inputs()[0].name\n",
    "label_name = [o.name for o in session.get_outputs()]\n",
    " \n",
    "print(f'input={input_name}, output={label_name}')\n",
    "\n",
    "print(f'onnx pred: {session.run(label_name, {input_name: example_x.numpy().astype(np.float32)})}')\n",
    "print(f'sklearn pred: {svm.predict_proba(example_x)}')"
   ]
  },
  {
   "cell_type": "markdown",
   "metadata": {},
   "source": [
    "### Validate the model"
   ]
  },
  {
   "cell_type": "markdown",
   "metadata": {},
   "source": [
    "#### One by one"
   ]
  },
  {
   "cell_type": "code",
   "execution_count": 136,
   "metadata": {},
   "outputs": [
    {
     "name": "stdout",
     "output_type": "stream",
     "text": [
      "Predicting for boredom: 0.48299548029899597\n",
      "Predicting for flow: 0.4976547062397003\n",
      "Predicting for frustration: 0.531104326248169\n",
      "Predicting for neutral: 0.5129537582397461\n"
     ]
    }
   ],
   "source": [
    "from sklearn.metrics import mean_squared_error as MSE\n",
    "\n",
    "X_test, y_test = utils.load_testing_data(states=CLASSIFIED_STATES)\n",
    "X_test = X_test.mean(axis=1)\n",
    "\n",
    "for i, state in enumerate(CLASSIFIED_STATES):\n",
    "  y_test_i = y_test[:, i].numpy()\n",
    "\n",
    "  session = rt.InferenceSession(f\"{EXPORTED_MODELS_PATH}/svm_{state}.onnx\", providers=[\"CPUExecutionProvider\"])\n",
    "  input_name = session.get_inputs()[0].name\n",
    "  label_name = [o.name for o in session.get_outputs()]\n",
    "  preds = session.run(label_name, {input_name: X_test.numpy().astype(np.float32)})\n",
    "  preds = np.array(preds[0])[:, 0]\n",
    "\n",
    "  print(f'Predicting for {state}: {MSE(preds, y_test_i)}')"
   ]
  },
  {
   "cell_type": "markdown",
   "metadata": {},
   "source": [
    "### As one entity"
   ]
  },
  {
   "cell_type": "code",
   "execution_count": 125,
   "metadata": {},
   "outputs": [],
   "source": [
    "class ONNXSVM:\n",
    "  def __init__(self, state):\n",
    "    self.classes = state\n",
    "    self.svm = rt.InferenceSession(f\"{EXPORTED_MODELS_PATH}/svm_{state}.onnx\", providers=[\"CPUExecutionProvider\"])\n",
    "    self.input_name = self.svm.get_inputs()[0].name\n",
    "    self.label_name = [o.name for o in self.svm.get_outputs()]\n",
    "  \n",
    "  def predict(self, X):\n",
    "    preds = self.svm.run(self.label_name, {self.input_name: X.numpy().astype(np.float32)})\n",
    "    return np.array(preds[0])[:, 0]\n",
    "\n",
    "class MultiClassSVM:\n",
    "  def __init__(self, classes):\n",
    "    self.SVMS = [ONNXSVM(state) for state in classes]\n",
    "\n",
    "  def forward(self, X):\n",
    "    return X.mean(axis=1)\n",
    "\n",
    "  def predict_proba(self, X):\n",
    "    X = self.forward(X)\n",
    "    preds = np.array([svm.predict(X) for svm in self.SVMS]).T\n",
    "    return preds\n",
    "  \n",
    "  def predict(self, X):\n",
    "    preds = self.predict_proba(X)\n",
    "    return np.argmax(preds, axis=1)\n",
    "  \n",
    "  def mse_per_class(self, X, y):\n",
    "    preds = self.predict_proba(X)\n",
    "    return [MSE(preds[:, i], y[:, i]) for i in range(len(self.SVMS))]\n",
    "  \n",
    "  def accuracy(self, X, y):\n",
    "    predicted_ids = self.predict(X)\n",
    "    target_ids = np.argmax(y, axis=1)\n",
    "    return (predicted_ids == target_ids).mean()\n",
    "    \n",
    "\n",
    "multi_svm = MultiClassSVM(CLASSIFIED_STATES)\n",
    "X_test, y_test = utils.load_testing_data(states=CLASSIFIED_STATES)\n",
    "\n",
    "y_test = y_test.numpy()\n",
    "\n",
    "preds_proba = multi_svm.predict_proba(X_test)\n",
    "preds = multi_svm.predict(X_test)"
   ]
  },
  {
   "cell_type": "code",
   "execution_count": 126,
   "metadata": {},
   "outputs": [
    {
     "data": {
      "text/plain": [
       "([0.48299548, 0.49765477, 0.5311043, 0.51295376], 0.151920438957476)"
      ]
     },
     "execution_count": 126,
     "metadata": {},
     "output_type": "execute_result"
    }
   ],
   "source": [
    "multi_svm.mse_per_class(X_test, y_test), multi_svm.accuracy(X_test, y_test)"
   ]
  },
  {
   "cell_type": "code",
   "execution_count": 127,
   "metadata": {},
   "outputs": [
    {
     "data": {
      "text/plain": [
       "(array([[0.04378931, 0.40158644, 0.92727005, 0.780943  ],\n",
       "        [0.97902256, 0.7092874 , 0.7085951 , 0.53682214],\n",
       "        [0.04465177, 0.81572837, 0.64123017, 0.99497956],\n",
       "        ...,\n",
       "        [0.62574124, 0.72872216, 0.76413924, 0.76582664],\n",
       "        [0.18687055, 0.80740154, 0.8660705 , 0.9063135 ],\n",
       "        [0.7943504 , 0.82903546, 0.5347151 , 0.64515984]], dtype=float32),\n",
       " array([2, 0, 3, ..., 3, 3, 1]))"
      ]
     },
     "execution_count": 127,
     "metadata": {},
     "output_type": "execute_result"
    }
   ],
   "source": [
    "preds_proba, preds"
   ]
  },
  {
   "cell_type": "code",
   "execution_count": 130,
   "metadata": {},
   "outputs": [
    {
     "data": {
      "text/plain": [
       "Text(0, 0.5, 'Counts')"
      ]
     },
     "execution_count": 130,
     "metadata": {},
     "output_type": "execute_result"
    },
    {
     "data": {
      "image/png": "[encoded data removed]",
      "text/plain": [
       "<Figure size 640x480 with 1 Axes>"
      ]
     },
     "metadata": {},
     "output_type": "display_data"
    }
   ],
   "source": [
    "import matplotlib.pyplot as plt\n",
    "\n",
    "values, counts = np.unique(preds, return_counts=True)\n",
    "plt.bar(CLASSIFIED_STATES, counts)\n",
    "plt.title(\"Number of TOP predictions per state\")\n",
    "plt.xlabel(\"States\")\n",
    "plt.ylabel(\"Counts\")\n"
   ]
  }
 ],
 "metadata": {
  "kernelspec": {
   "display_name": "base",
   "language": "python",
   "name": "python3"
  },
  "language_info": {
   "codemirror_mode": {
    "name": "ipython",
    "version": 3
   },
   "file_extension": ".py",
   "mimetype": "text/x-python",
   "name": "python",
   "nbconvert_exporter": "python",
   "pygments_lexer": "ipython3",
   "version": "3.11.5"
  }
 },
 "nbformat": 4,
 "nbformat_minor": 2
}
