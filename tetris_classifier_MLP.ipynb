{
 "cells": [
  {
   "cell_type": "code",
   "execution_count": 1,
   "metadata": {},
   "outputs": [
    {
     "data": {
      "text/plain": [
       "<module 'utils' from '/mnt/cb8c2a81-32e7-40bc-af74-0c1386cda683/programowanie/pipelon/Classifier-Builder/utils.py'>"
      ]
     },
     "execution_count": 1,
     "metadata": {},
     "output_type": "execute_result"
    }
   ],
   "source": [
    "import importlib\n",
    "import numpy as np\n",
    "\n",
    "from constants import *\n",
    "import utils\n",
    "importlib.reload(utils)"
   ]
  },
  {
   "cell_type": "code",
   "execution_count": 2,
   "metadata": {},
   "outputs": [
    {
     "data": {
      "text/plain": [
       "((55120, 40), (14904, 2), (10976, 2))"
      ]
     },
     "execution_count": 2,
     "metadata": {},
     "output_type": "execute_result"
    }
   ],
   "source": [
    "x_train, y_train = utils.new_load_data('training')\n",
    "x_test, y_test = utils.new_load_data('testing')\n",
    "x_val, y_val = utils.new_load_data('validation')\n",
    "\n",
    "# x_train, y_train = x_train[:10000], y_train[:10000]\n",
    "# x_test, y_test = x_test[:3000], y_test[:3000]\n",
    "\n",
    "x_train.shape, y_test.shape, y_val.shape "
   ]
  },
  {
   "cell_type": "code",
   "execution_count": 3,
   "metadata": {},
   "outputs": [
    {
     "name": "stdout",
     "output_type": "stream",
     "text": [
      "Classes: ['boredom', 'flow']\n",
      "Class distribution for train: (array([0, 1], dtype=int32), array([55120, 55120]))\n",
      "Class distribution for test: (array([0, 1], dtype=int32), array([14904, 14904]))\n",
      "Class distribution for valid: (array([0, 1], dtype=int32), array([10976, 10976]))\n"
     ]
    }
   ],
   "source": [
    "print(f\"Classes: {STATES}\")\n",
    "print(f\"Class distribution for train: {np.unique(y_train, return_counts=True)}\")\n",
    "print(f\"Class distribution for test: {np.unique(y_test, return_counts=True)}\")\n",
    "print(f\"Class distribution for valid: {np.unique(y_val, return_counts=True)}\")"
   ]
  },
  {
   "cell_type": "code",
   "execution_count": 4,
   "metadata": {},
   "outputs": [
    {
     "name": "stderr",
     "output_type": "stream",
     "text": [
      "2025-02-18 10:59:22.861521: E external/local_xla/xla/stream_executor/cuda/cuda_fft.cc:485] Unable to register cuFFT factory: Attempting to register factory for plugin cuFFT when one has already been registered\n",
      "2025-02-18 10:59:22.887679: E external/local_xla/xla/stream_executor/cuda/cuda_dnn.cc:8454] Unable to register cuDNN factory: Attempting to register factory for plugin cuDNN when one has already been registered\n",
      "2025-02-18 10:59:22.895745: E external/local_xla/xla/stream_executor/cuda/cuda_blas.cc:1452] Unable to register cuBLAS factory: Attempting to register factory for plugin cuBLAS when one has already been registered\n",
      "2025-02-18 10:59:22.916564: I tensorflow/core/platform/cpu_feature_guard.cc:210] This TensorFlow binary is optimized to use available CPU instructions in performance-critical operations.\n",
      "To enable the following instructions: SSE4.1 SSE4.2 AVX AVX2 FMA, in other operations, rebuild TensorFlow with the appropriate compiler flags.\n",
      "/home/jakubner/anaconda3/lib/python3.12/site-packages/keras/src/layers/core/dense.py:87: UserWarning: Do not pass an `input_shape`/`input_dim` argument to a layer. When using Sequential models, prefer using an `Input(shape)` object as the first layer in the model instead.\n",
      "  super().__init__(activity_regularizer=activity_regularizer, **kwargs)\n",
      "WARNING: All log messages before absl::InitializeLog() is called are written to STDERR\n",
      "I0000 00:00:1739872767.761685   15942 cuda_executor.cc:1015] successful NUMA node read from SysFS had negative value (-1), but there must be at least one NUMA node, so returning NUMA node zero. See more at https://github.com/torvalds/linux/blob/v6.0/Documentation/ABI/testing/sysfs-bus-pci#L344-L355\n",
      "I0000 00:00:1739872768.022876   15942 cuda_executor.cc:1015] successful NUMA node read from SysFS had negative value (-1), but there must be at least one NUMA node, so returning NUMA node zero. See more at https://github.com/torvalds/linux/blob/v6.0/Documentation/ABI/testing/sysfs-bus-pci#L344-L355\n",
      "I0000 00:00:1739872768.027969   15942 cuda_executor.cc:1015] successful NUMA node read from SysFS had negative value (-1), but there must be at least one NUMA node, so returning NUMA node zero. See more at https://github.com/torvalds/linux/blob/v6.0/Documentation/ABI/testing/sysfs-bus-pci#L344-L355\n",
      "I0000 00:00:1739872768.033812   15942 cuda_executor.cc:1015] successful NUMA node read from SysFS had negative value (-1), but there must be at least one NUMA node, so returning NUMA node zero. See more at https://github.com/torvalds/linux/blob/v6.0/Documentation/ABI/testing/sysfs-bus-pci#L344-L355\n",
      "I0000 00:00:1739872768.036465   15942 cuda_executor.cc:1015] successful NUMA node read from SysFS had negative value (-1), but there must be at least one NUMA node, so returning NUMA node zero. See more at https://github.com/torvalds/linux/blob/v6.0/Documentation/ABI/testing/sysfs-bus-pci#L344-L355\n",
      "I0000 00:00:1739872768.044548   15942 cuda_executor.cc:1015] successful NUMA node read from SysFS had negative value (-1), but there must be at least one NUMA node, so returning NUMA node zero. See more at https://github.com/torvalds/linux/blob/v6.0/Documentation/ABI/testing/sysfs-bus-pci#L344-L355\n",
      "I0000 00:00:1739872768.366557   15942 cuda_executor.cc:1015] successful NUMA node read from SysFS had negative value (-1), but there must be at least one NUMA node, so returning NUMA node zero. See more at https://github.com/torvalds/linux/blob/v6.0/Documentation/ABI/testing/sysfs-bus-pci#L344-L355\n",
      "I0000 00:00:1739872768.368580   15942 cuda_executor.cc:1015] successful NUMA node read from SysFS had negative value (-1), but there must be at least one NUMA node, so returning NUMA node zero. See more at https://github.com/torvalds/linux/blob/v6.0/Documentation/ABI/testing/sysfs-bus-pci#L344-L355\n",
      "I0000 00:00:1739872768.370453   15942 cuda_executor.cc:1015] successful NUMA node read from SysFS had negative value (-1), but there must be at least one NUMA node, so returning NUMA node zero. See more at https://github.com/torvalds/linux/blob/v6.0/Documentation/ABI/testing/sysfs-bus-pci#L344-L355\n",
      "2025-02-18 10:59:28.376268: I tensorflow/core/common_runtime/gpu/gpu_device.cc:2021] Created device /job:localhost/replica:0/task:0/device:GPU:0 with 2557 MB memory:  -> device: 0, name: NVIDIA GeForce GTX 1650, pci bus id: 0000:01:00.0, compute capability: 7.5\n"
     ]
    },
    {
     "name": "stdout",
     "output_type": "stream",
     "text": [
      "Epoch 1/15\n"
     ]
    },
    {
     "name": "stderr",
     "output_type": "stream",
     "text": [
      "I0000 00:00:1739872772.101768   16002 service.cc:146] XLA service 0x7b1d88005480 initialized for platform CUDA (this does not guarantee that XLA will be used). Devices:\n",
      "I0000 00:00:1739872772.101808   16002 service.cc:154]   StreamExecutor device (0): NVIDIA GeForce GTX 1650, Compute Capability 7.5\n",
      "2025-02-18 10:59:32.196242: I tensorflow/compiler/mlir/tensorflow/utils/dump_mlir_util.cc:268] disabling MLIR crash reproducer, set env var `MLIR_CRASH_REPRODUCER_DIRECTORY` to enable.\n",
      "2025-02-18 10:59:32.446095: I external/local_xla/xla/stream_executor/cuda/cuda_dnn.cc:531] Loaded cuDNN version 90300\n"
     ]
    },
    {
     "name": "stdout",
     "output_type": "stream",
     "text": [
      "\u001b[1m  32/1723\u001b[0m \u001b[37m━━━━━━━━━━━━━━━━━━━━\u001b[0m \u001b[1m9s\u001b[0m 5ms/step - accuracy: 0.5224 - loss: 1.4127"
     ]
    },
    {
     "name": "stderr",
     "output_type": "stream",
     "text": [
      "I0000 00:00:1739872773.911846   16002 device_compiler.h:188] Compiled cluster using XLA!  This line is logged at most once for the lifetime of the process.\n"
     ]
    },
    {
     "name": "stdout",
     "output_type": "stream",
     "text": [
      "\u001b[1m1723/1723\u001b[0m \u001b[32m━━━━━━━━━━━━━━━━━━━━\u001b[0m\u001b[37m\u001b[0m \u001b[1m0s\u001b[0m 4ms/step - accuracy: 0.6537 - loss: 0.6763\n",
      "Epoch 1: val_loss improved from inf to 0.41701, saving model to ../models/phase_2/phase_2_model.keras\n",
      "\u001b[1m1723/1723\u001b[0m \u001b[32m━━━━━━━━━━━━━━━━━━━━\u001b[0m\u001b[37m\u001b[0m \u001b[1m13s\u001b[0m 6ms/step - accuracy: 0.6537 - loss: 0.6762 - val_accuracy: 0.8048 - val_loss: 0.4170 - learning_rate: 0.0010\n",
      "Epoch 2/15\n",
      "\u001b[1m1716/1723\u001b[0m \u001b[32m━━━━━━━━━━━━━━━━━━━\u001b[0m\u001b[37m━\u001b[0m \u001b[1m0s\u001b[0m 3ms/step - accuracy: 0.8361 - loss: 0.3728\n",
      "Epoch 2: val_loss improved from 0.41701 to 0.34275, saving model to ../models/phase_2/phase_2_model.keras\n",
      "\u001b[1m1723/1723\u001b[0m \u001b[32m━━━━━━━━━━━━━━━━━━━━\u001b[0m\u001b[37m\u001b[0m \u001b[1m7s\u001b[0m 4ms/step - accuracy: 0.8362 - loss: 0.3727 - val_accuracy: 0.8513 - val_loss: 0.3428 - learning_rate: 0.0010\n",
      "Epoch 3/15\n",
      "\u001b[1m1718/1723\u001b[0m \u001b[32m━━━━━━━━━━━━━━━━━━━\u001b[0m\u001b[37m━\u001b[0m \u001b[1m0s\u001b[0m 4ms/step - accuracy: 0.8816 - loss: 0.2869\n",
      "Epoch 3: val_loss improved from 0.34275 to 0.28210, saving model to ../models/phase_2/phase_2_model.keras\n",
      "\u001b[1m1723/1723\u001b[0m \u001b[32m━━━━━━━━━━━━━━━━━━━━\u001b[0m\u001b[37m\u001b[0m \u001b[1m7s\u001b[0m 4ms/step - accuracy: 0.8816 - loss: 0.2869 - val_accuracy: 0.8876 - val_loss: 0.2821 - learning_rate: 0.0010\n",
      "Epoch 4/15\n",
      "\u001b[1m1720/1723\u001b[0m \u001b[32m━━━━━━━━━━━━━━━━━━━\u001b[0m\u001b[37m━\u001b[0m \u001b[1m0s\u001b[0m 3ms/step - accuracy: 0.9031 - loss: 0.2385\n",
      "Epoch 4: val_loss improved from 0.28210 to 0.24965, saving model to ../models/phase_2/phase_2_model.keras\n",
      "\u001b[1m1723/1723\u001b[0m \u001b[32m━━━━━━━━━━━━━━━━━━━━\u001b[0m\u001b[37m\u001b[0m \u001b[1m6s\u001b[0m 3ms/step - accuracy: 0.9031 - loss: 0.2385 - val_accuracy: 0.9014 - val_loss: 0.2497 - learning_rate: 0.0010\n",
      "Epoch 5/15\n",
      "\u001b[1m1715/1723\u001b[0m \u001b[32m━━━━━━━━━━━━━━━━━━━\u001b[0m\u001b[37m━\u001b[0m \u001b[1m0s\u001b[0m 3ms/step - accuracy: 0.9148 - loss: 0.2102\n",
      "Epoch 5: val_loss improved from 0.24965 to 0.24527, saving model to ../models/phase_2/phase_2_model.keras\n",
      "\u001b[1m1723/1723\u001b[0m \u001b[32m━━━━━━━━━━━━━━━━━━━━\u001b[0m\u001b[37m\u001b[0m \u001b[1m5s\u001b[0m 3ms/step - accuracy: 0.9148 - loss: 0.2101 - val_accuracy: 0.9019 - val_loss: 0.2453 - learning_rate: 0.0010\n",
      "Epoch 6/15\n",
      "\u001b[1m1711/1723\u001b[0m \u001b[32m━━━━━━━━━━━━━━━━━━━\u001b[0m\u001b[37m━\u001b[0m \u001b[1m0s\u001b[0m 3ms/step - accuracy: 0.9242 - loss: 0.1888\n",
      "Epoch 6: val_loss improved from 0.24527 to 0.21523, saving model to ../models/phase_2/phase_2_model.keras\n",
      "\u001b[1m1723/1723\u001b[0m \u001b[32m━━━━━━━━━━━━━━━━━━━━\u001b[0m\u001b[37m\u001b[0m \u001b[1m6s\u001b[0m 3ms/step - accuracy: 0.9242 - loss: 0.1888 - val_accuracy: 0.9139 - val_loss: 0.2152 - learning_rate: 0.0010\n",
      "Epoch 7/15\n",
      "\u001b[1m1718/1723\u001b[0m \u001b[32m━━━━━━━━━━━━━━━━━━━\u001b[0m\u001b[37m━\u001b[0m \u001b[1m0s\u001b[0m 3ms/step - accuracy: 0.9294 - loss: 0.1733\n",
      "Epoch 7: val_loss improved from 0.21523 to 0.20178, saving model to ../models/phase_2/phase_2_model.keras\n",
      "\u001b[1m1723/1723\u001b[0m \u001b[32m━━━━━━━━━━━━━━━━━━━━\u001b[0m\u001b[37m\u001b[0m \u001b[1m6s\u001b[0m 4ms/step - accuracy: 0.9295 - loss: 0.1733 - val_accuracy: 0.9149 - val_loss: 0.2018 - learning_rate: 0.0010\n",
      "Epoch 8/15\n",
      "\u001b[1m1709/1723\u001b[0m \u001b[32m━━━━━━━━━━━━━━━━━━━\u001b[0m\u001b[37m━\u001b[0m \u001b[1m0s\u001b[0m 2ms/step - accuracy: 0.9374 - loss: 0.1564\n",
      "Epoch 8: val_loss did not improve from 0.20178\n",
      "\u001b[1m1723/1723\u001b[0m \u001b[32m━━━━━━━━━━━━━━━━━━━━\u001b[0m\u001b[37m\u001b[0m \u001b[1m5s\u001b[0m 3ms/step - accuracy: 0.9374 - loss: 0.1564 - val_accuracy: 0.9141 - val_loss: 0.2113 - learning_rate: 0.0010\n",
      "Epoch 9/15\n",
      "\u001b[1m1718/1723\u001b[0m \u001b[32m━━━━━━━━━━━━━━━━━━━\u001b[0m\u001b[37m━\u001b[0m \u001b[1m0s\u001b[0m 2ms/step - accuracy: 0.9397 - loss: 0.1500\n",
      "Epoch 9: val_loss did not improve from 0.20178\n",
      "\u001b[1m1723/1723\u001b[0m \u001b[32m━━━━━━━━━━━━━━━━━━━━\u001b[0m\u001b[37m\u001b[0m \u001b[1m5s\u001b[0m 3ms/step - accuracy: 0.9397 - loss: 0.1500 - val_accuracy: 0.9108 - val_loss: 0.2228 - learning_rate: 0.0010\n",
      "Epoch 10/15\n",
      "\u001b[1m1718/1723\u001b[0m \u001b[32m━━━━━━━━━━━━━━━━━━━\u001b[0m\u001b[37m━\u001b[0m \u001b[1m0s\u001b[0m 2ms/step - accuracy: 0.9447 - loss: 0.1422\n",
      "Epoch 10: val_loss did not improve from 0.20178\n",
      "\n",
      "Epoch 10: ReduceLROnPlateau reducing learning rate to 0.0006000000284984708.\n",
      "\u001b[1m1723/1723\u001b[0m \u001b[32m━━━━━━━━━━━━━━━━━━━━\u001b[0m\u001b[37m\u001b[0m \u001b[1m5s\u001b[0m 3ms/step - accuracy: 0.9447 - loss: 0.1421 - val_accuracy: 0.9142 - val_loss: 0.2278 - learning_rate: 0.0010\n",
      "Epoch 11/15\n",
      "\u001b[1m1714/1723\u001b[0m \u001b[32m━━━━━━━━━━━━━━━━━━━\u001b[0m\u001b[37m━\u001b[0m \u001b[1m0s\u001b[0m 3ms/step - accuracy: 0.9500 - loss: 0.1265\n",
      "Epoch 11: val_loss did not improve from 0.20178\n",
      "\u001b[1m1723/1723\u001b[0m \u001b[32m━━━━━━━━━━━━━━━━━━━━\u001b[0m\u001b[37m\u001b[0m \u001b[1m5s\u001b[0m 3ms/step - accuracy: 0.9500 - loss: 0.1265 - val_accuracy: 0.9161 - val_loss: 0.2061 - learning_rate: 6.0000e-04\n",
      "Epoch 12/15\n",
      "\u001b[1m1718/1723\u001b[0m \u001b[32m━━━━━━━━━━━━━━━━━━━\u001b[0m\u001b[37m━\u001b[0m \u001b[1m0s\u001b[0m 3ms/step - accuracy: 0.9523 - loss: 0.1220\n",
      "Epoch 12: val_loss did not improve from 0.20178\n",
      "\u001b[1m1723/1723\u001b[0m \u001b[32m━━━━━━━━━━━━━━━━━━━━\u001b[0m\u001b[37m\u001b[0m \u001b[1m6s\u001b[0m 3ms/step - accuracy: 0.9523 - loss: 0.1220 - val_accuracy: 0.9161 - val_loss: 0.2052 - learning_rate: 6.0000e-04\n",
      "Epoch 13/15\n",
      "\u001b[1m1717/1723\u001b[0m \u001b[32m━━━━━━━━━━━━━━━━━━━\u001b[0m\u001b[37m━\u001b[0m \u001b[1m0s\u001b[0m 3ms/step - accuracy: 0.9548 - loss: 0.1167\n",
      "Epoch 13: val_loss improved from 0.20178 to 0.19997, saving model to ../models/phase_2/phase_2_model.keras\n",
      "\u001b[1m1723/1723\u001b[0m \u001b[32m━━━━━━━━━━━━━━━━━━━━\u001b[0m\u001b[37m\u001b[0m \u001b[1m5s\u001b[0m 3ms/step - accuracy: 0.9548 - loss: 0.1167 - val_accuracy: 0.9220 - val_loss: 0.2000 - learning_rate: 6.0000e-04\n",
      "Epoch 14/15\n",
      "\u001b[1m1709/1723\u001b[0m \u001b[32m━━━━━━━━━━━━━━━━━━━\u001b[0m\u001b[37m━\u001b[0m \u001b[1m0s\u001b[0m 2ms/step - accuracy: 0.9578 - loss: 0.1117\n",
      "Epoch 14: val_loss improved from 0.19997 to 0.19559, saving model to ../models/phase_2/phase_2_model.keras\n",
      "\u001b[1m1723/1723\u001b[0m \u001b[32m━━━━━━━━━━━━━━━━━━━━\u001b[0m\u001b[37m\u001b[0m \u001b[1m5s\u001b[0m 3ms/step - accuracy: 0.9578 - loss: 0.1117 - val_accuracy: 0.9245 - val_loss: 0.1956 - learning_rate: 6.0000e-04\n",
      "Epoch 15/15\n",
      "\u001b[1m1722/1723\u001b[0m \u001b[32m━━━━━━━━━━━━━━━━━━━\u001b[0m\u001b[37m━\u001b[0m \u001b[1m0s\u001b[0m 3ms/step - accuracy: 0.9571 - loss: 0.1123\n",
      "Epoch 15: val_loss improved from 0.19559 to 0.18967, saving model to ../models/phase_2/phase_2_model.keras\n",
      "\u001b[1m1723/1723\u001b[0m \u001b[32m━━━━━━━━━━━━━━━━━━━━\u001b[0m\u001b[37m\u001b[0m \u001b[1m5s\u001b[0m 3ms/step - accuracy: 0.9571 - loss: 0.1123 - val_accuracy: 0.9289 - val_loss: 0.1897 - learning_rate: 6.0000e-04\n"
     ]
    }
   ],
   "source": [
    "import tensorflow as tf\n",
    "\n",
    "checkpoint_callback = tf.keras.callbacks.ModelCheckpoint(\n",
    "    filepath='../models/phase_2/phase_2_model.keras',\n",
    "    save_best_only=True,\n",
    "    monitor='val_loss',\n",
    "    mode='min',\n",
    "    verbose=1\n",
    ")\n",
    "\n",
    "lr_scheduler = tf.keras.callbacks.ReduceLROnPlateau(\n",
    "    monitor='val_loss',\n",
    "    factor=0.6,\n",
    "    patience=3,\n",
    "    min_lr=1e-6,\n",
    "    verbose=1\n",
    ")\n",
    "model = tf.keras.models.Sequential([\n",
    "    tf.keras.layers.Dense(20, activation='relu6', input_shape=(x_train.shape[1],)),\n",
    "    tf.keras.layers.Dense(len(STATES), activation='softmax'),\n",
    "])\n",
    "\n",
    "model.compile(optimizer='adam', loss='categorical_crossentropy', metrics=['accuracy'])\n",
    "history = model.fit(\n",
    "  x_train, \n",
    "  y_train, \n",
    "  epochs=15, \n",
    "  verbose=1,\n",
    "  validation_data=(x_test, y_test),\n",
    "  callbacks=[checkpoint_callback, lr_scheduler]\n",
    ")\n"
   ]
  },
  {
   "cell_type": "code",
   "execution_count": 5,
   "metadata": {},
   "outputs": [
    {
     "data": {
      "image/png": "[encoded data removed]",
      "text/plain": [
       "<Figure size 1000x500 with 2 Axes>"
      ]
     },
     "metadata": {},
     "output_type": "display_data"
    }
   ],
   "source": [
    "import matplotlib.pyplot as plt\n",
    "fig, axs = plt.subplots(1, 2, figsize=(10, 5))  \n",
    "fig.suptitle('Boredom-Flow MLP Training history')\n",
    "\n",
    "axs[0].plot(history.history['accuracy'], label='accuracy')\n",
    "axs[0].plot(history.history['val_accuracy'], label='val_accuracy')\n",
    "axs[0].legend()\n",
    "\n",
    "axs[1].plot(history.history['loss'], label='loss')\n",
    "axs[1].plot(history.history['val_loss'], label='val_loss')\n",
    "axs[1].legend()\n",
    "plt.show()"
   ]
  },
  {
   "cell_type": "code",
   "execution_count": 6,
   "metadata": {},
   "outputs": [
    {
     "name": "stdout",
     "output_type": "stream",
     "text": [
      "\u001b[1m466/466\u001b[0m \u001b[32m━━━━━━━━━━━━━━━━━━━━\u001b[0m\u001b[37m\u001b[0m \u001b[1m2s\u001b[0m 3ms/step\n",
      "Confusion Matrix:\n",
      "+-----------------+--------------------+-----------------+\n",
      "|                 | Predicted: boredom | Predicted: flow |\n",
      "+-----------------+--------------------+-----------------+\n",
      "| Actual: boredom |        6713        |       715       |\n",
      "|  Actual: flow   |        344         |      7132       |\n",
      "+-----------------+--------------------+-----------------+\n",
      "\n",
      "Classification Report:\n",
      "+--------------+-----------+--------+----------+---------+\n",
      "|              | precision | recall | f1-score | support |\n",
      "+--------------+-----------+--------+----------+---------+\n",
      "|   boredom    |   0.951   | 0.904  |  0.927   | 7428.0  |\n",
      "|     flow     |   0.909   | 0.954  |  0.931   | 7476.0  |\n",
      "|   accuracy   |   0.929   | 0.929  |  0.929   |  0.929  |\n",
      "|  macro avg   |   0.93    | 0.929  |  0.929   | 14904.0 |\n",
      "| weighted avg |   0.93    | 0.929  |  0.929   | 14904.0 |\n",
      "+--------------+-----------+--------+----------+---------+\n"
     ]
    }
   ],
   "source": [
    "\n",
    "from sklearn.metrics import classification_report, confusion_matrix\n",
    "best_model = tf.keras.models.load_model('../models/phase_2/phase_2_model.keras')\n",
    "y_pred = best_model.predict(x_test).argmax(axis=1)\n",
    "\n",
    "true_y = y_test.argmax(axis=1)\n",
    "utils.present_confusion_matrix(confusion_matrix(true_y, y_pred))\n",
    "utils.present_metrics(classification_report(true_y, y_pred, target_names=STATES, output_dict=True))"
   ]
  },
  {
   "cell_type": "code",
   "execution_count": 7,
   "metadata": {},
   "outputs": [
    {
     "name": "stdout",
     "output_type": "stream",
     "text": [
      "INFO:tensorflow:Assets written to: ./tmp-boredom-flow-30-11/assets\n"
     ]
    },
    {
     "name": "stderr",
     "output_type": "stream",
     "text": [
      "INFO:tensorflow:Assets written to: ./tmp-boredom-flow-30-11/assets\n"
     ]
    },
    {
     "name": "stdout",
     "output_type": "stream",
     "text": [
      "Saved artifact at './tmp-boredom-flow-30-11'. The following endpoints are available:\n",
      "\n",
      "* Endpoint 'serve'\n",
      "  args_0 (POSITIONAL_ONLY): TensorSpec(shape=(None, 40), dtype=tf.float32, name='input_layer')\n",
      "Output Type:\n",
      "  TensorSpec(shape=(None, 2), dtype=tf.float32, name=None)\n",
      "Captures:\n",
      "  135368488842064: TensorSpec(shape=(), dtype=tf.resource, name=None)\n",
      "  135368488842448: TensorSpec(shape=(), dtype=tf.resource, name=None)\n",
      "  135368488842640: TensorSpec(shape=(), dtype=tf.resource, name=None)\n",
      "  135368488843600: TensorSpec(shape=(), dtype=tf.resource, name=None)\n",
      "2025-02-18 11:01:12.257732: E external/local_xla/xla/stream_executor/cuda/cuda_fft.cc:485] Unable to register cuFFT factory: Attempting to register factory for plugin cuFFT when one has already been registered\n",
      "2025-02-18 11:01:12.301849: E external/local_xla/xla/stream_executor/cuda/cuda_dnn.cc:8454] Unable to register cuDNN factory: Attempting to register factory for plugin cuDNN when one has already been registered\n",
      "2025-02-18 11:01:12.315523: E external/local_xla/xla/stream_executor/cuda/cuda_blas.cc:1452] Unable to register cuBLAS factory: Attempting to register factory for plugin cuBLAS when one has already been registered\n",
      "2025-02-18 11:01:12.378279: I tensorflow/core/platform/cpu_feature_guard.cc:210] This TensorFlow binary is optimized to use available CPU instructions in performance-critical operations.\n",
      "To enable the following instructions: SSE4.1 SSE4.2 AVX AVX2 FMA, in other operations, rebuild TensorFlow with the appropriate compiler flags.\n",
      "<frozen runpy>:128: RuntimeWarning: 'tf2onnx.convert' found in sys.modules after import of package 'tf2onnx', but prior to execution of 'tf2onnx.convert'; this may result in unpredictable behaviour\n",
      "WARNING: All log messages before absl::InitializeLog() is called are written to STDERR\n",
      "I0000 00:00:1739872878.509141   16557 cuda_executor.cc:1015] successful NUMA node read from SysFS had negative value (-1), but there must be at least one NUMA node, so returning NUMA node zero. See more at https://github.com/torvalds/linux/blob/v6.0/Documentation/ABI/testing/sysfs-bus-pci#L344-L355\n",
      "I0000 00:00:1739872878.816987   16557 cuda_executor.cc:1015] successful NUMA node read from SysFS had negative value (-1), but there must be at least one NUMA node, so returning NUMA node zero. See more at https://github.com/torvalds/linux/blob/v6.0/Documentation/ABI/testing/sysfs-bus-pci#L344-L355\n",
      "I0000 00:00:1739872878.818258   16557 cuda_executor.cc:1015] successful NUMA node read from SysFS had negative value (-1), but there must be at least one NUMA node, so returning NUMA node zero. See more at https://github.com/torvalds/linux/blob/v6.0/Documentation/ABI/testing/sysfs-bus-pci#L344-L355\n",
      "I0000 00:00:1739872878.822026   16557 cuda_executor.cc:1015] successful NUMA node read from SysFS had negative value (-1), but there must be at least one NUMA node, so returning NUMA node zero. See more at https://github.com/torvalds/linux/blob/v6.0/Documentation/ABI/testing/sysfs-bus-pci#L344-L355\n",
      "I0000 00:00:1739872878.824523   16557 cuda_executor.cc:1015] successful NUMA node read from SysFS had negative value (-1), but there must be at least one NUMA node, so returning NUMA node zero. See more at https://github.com/torvalds/linux/blob/v6.0/Documentation/ABI/testing/sysfs-bus-pci#L344-L355\n",
      "I0000 00:00:1739872878.827256   16557 cuda_executor.cc:1015] successful NUMA node read from SysFS had negative value (-1), but there must be at least one NUMA node, so returning NUMA node zero. See more at https://github.com/torvalds/linux/blob/v6.0/Documentation/ABI/testing/sysfs-bus-pci#L344-L355\n",
      "I0000 00:00:1739872879.125432   16557 cuda_executor.cc:1015] successful NUMA node read from SysFS had negative value (-1), but there must be at least one NUMA node, so returning NUMA node zero. See more at https://github.com/torvalds/linux/blob/v6.0/Documentation/ABI/testing/sysfs-bus-pci#L344-L355\n",
      "I0000 00:00:1739872879.128574   16557 cuda_executor.cc:1015] successful NUMA node read from SysFS had negative value (-1), but there must be at least one NUMA node, so returning NUMA node zero. See more at https://github.com/torvalds/linux/blob/v6.0/Documentation/ABI/testing/sysfs-bus-pci#L344-L355\n",
      "I0000 00:00:1739872879.130738   16557 cuda_executor.cc:1015] successful NUMA node read from SysFS had negative value (-1), but there must be at least one NUMA node, so returning NUMA node zero. See more at https://github.com/torvalds/linux/blob/v6.0/Documentation/ABI/testing/sysfs-bus-pci#L344-L355\n",
      "2025-02-18 11:01:19.132423: I tensorflow/core/common_runtime/gpu/gpu_device.cc:2021] Created device /job:localhost/replica:0/task:0/device:GPU:0 with 756 MB memory:  -> device: 0, name: NVIDIA GeForce GTX 1650, pci bus id: 0000:01:00.0, compute capability: 7.5\n",
      "2025-02-18 11:01:19,137 - WARNING - '--tag' not specified for saved_model. Using --tag serve\n",
      "Traceback (most recent call last):\n",
      "  File \"<frozen runpy>\", line 198, in _run_module_as_main\n",
      "  File \"<frozen runpy>\", line 88, in _run_code\n",
      "  File \"/home/jakubner/anaconda3/lib/python3.12/site-packages/tf2onnx/convert.py\", line 714, in <module>\n",
      "    main()\n",
      "  File \"/home/jakubner/anaconda3/lib/python3.12/site-packages/tf2onnx/convert.py\", line 242, in main\n",
      "    graph_def, inputs, outputs, initialized_tables, tensors_to_rename = tf_loader.from_saved_model(\n",
      "                                                                        ^^^^^^^^^^^^^^^^^^^^^^^^^^^\n",
      "  File \"/home/jakubner/anaconda3/lib/python3.12/site-packages/tf2onnx/tf_loader.py\", line 636, in from_saved_model\n",
      "    _from_saved_model_v2(model_path, input_names, output_names,\n",
      "  File \"/home/jakubner/anaconda3/lib/python3.12/site-packages/tf2onnx/tf_loader.py\", line 570, in _from_saved_model_v2\n",
      "    imported = tf.saved_model.load(model_path, tags=tag)  # pylint: disable=no-value-for-parameter\n",
      "               ^^^^^^^^^^^^^^^^^^^^^^^^^^^^^^^^^^^^^^^^^\n",
      "  File \"/home/jakubner/anaconda3/lib/python3.12/site-packages/tensorflow/python/saved_model/load.py\", line 912, in load\n",
      "    result = load_partial(export_dir, None, tags, options)[\"root\"]\n",
      "             ^^^^^^^^^^^^^^^^^^^^^^^^^^^^^^^^^^^^^^^^^^^^^\n",
      "  File \"/home/jakubner/anaconda3/lib/python3.12/site-packages/tensorflow/python/saved_model/load.py\", line 1016, in load_partial\n",
      "    loader_impl.parse_saved_model_with_debug_info(export_dir))\n",
      "    ^^^^^^^^^^^^^^^^^^^^^^^^^^^^^^^^^^^^^^^^^^^^^^^^^^^^^^^^^\n",
      "  File \"/home/jakubner/anaconda3/lib/python3.12/site-packages/tensorflow/python/saved_model/loader_impl.py\", line 59, in parse_saved_model_with_debug_info\n",
      "    saved_model = parse_saved_model(export_dir)\n",
      "                  ^^^^^^^^^^^^^^^^^^^^^^^^^^^^^\n",
      "  File \"/home/jakubner/anaconda3/lib/python3.12/site-packages/tensorflow/python/saved_model/loader_impl.py\", line 119, in parse_saved_model\n",
      "    raise IOError(\n",
      "OSError: SavedModel file does not exist at: ftmp-boredom-flow-30-11/{saved_model.pbtxt|saved_model.pb}\n",
      "rm: cannot remove 'ftmp-boredom-flow-30-11': No such file or directory\n"
     ]
    }
   ],
   "source": [
    "MODEL_NAME = 'boredom-flow-30-11'\n",
    "\n",
    "best_model.export(f'./tmp-{MODEL_NAME}')\n",
    "\n",
    "!python -m tf2onnx.convert \\\n",
    "        --saved-model f\"tmp-{MODEL_NAME}\" \\\n",
    "        --output f\"./exported_models/{MODEL_NAME}\" \\\n",
    "        --opset 9 \n",
    "!rm -r f\"tmp-{MODEL_NAME}\""
   ]
  },
  {
   "cell_type": "code",
   "execution_count": 8,
   "metadata": {},
   "outputs": [
    {
     "data": {
      "text/plain": [
       "(1, 40)"
      ]
     },
     "execution_count": 8,
     "metadata": {},
     "output_type": "execute_result"
    }
   ],
   "source": [
    "example = x_test[0].reshape(1, -1)\n",
    "example.astype(np.float32).shape"
   ]
  },
  {
   "cell_type": "code",
   "execution_count": 9,
   "metadata": {},
   "outputs": [
    {
     "ename": "ModuleNotFoundError",
     "evalue": "No module named 'onnxruntime'",
     "output_type": "error",
     "traceback": [
      "\u001b[0;31m---------------------------------------------------------------------------\u001b[0m",
      "\u001b[0;31mModuleNotFoundError\u001b[0m                       Traceback (most recent call last)",
      "Cell \u001b[0;32mIn[9], line 2\u001b[0m\n\u001b[1;32m      1\u001b[0m \u001b[38;5;28;01mimport\u001b[39;00m \u001b[38;5;21;01mnumpy\u001b[39;00m \u001b[38;5;28;01mas\u001b[39;00m \u001b[38;5;21;01mnp\u001b[39;00m\n\u001b[0;32m----> 2\u001b[0m \u001b[38;5;28;01mimport\u001b[39;00m \u001b[38;5;21;01monnxruntime\u001b[39;00m \u001b[38;5;28;01mas\u001b[39;00m \u001b[38;5;21;01mrt\u001b[39;00m\n\u001b[1;32m      4\u001b[0m session \u001b[38;5;241m=\u001b[39m rt\u001b[38;5;241m.\u001b[39mInferenceSession(\u001b[38;5;124m\"\u001b[39m\u001b[38;5;124m./output/mnist1.onnx\u001b[39m\u001b[38;5;124m\"\u001b[39m)\n\u001b[1;32m      5\u001b[0m input_name \u001b[38;5;241m=\u001b[39m session\u001b[38;5;241m.\u001b[39mget_inputs()[\u001b[38;5;241m0\u001b[39m]\u001b[38;5;241m.\u001b[39mname\n",
      "\u001b[0;31mModuleNotFoundError\u001b[0m: No module named 'onnxruntime'"
     ]
    }
   ],
   "source": [
    "\n",
    "import numpy as np\n",
    "import onnxruntime as rt\n",
    "\n",
    "session = rt.InferenceSession(\"./output/mnist1.onnx\")\n",
    "input_name = session.get_inputs()[0].name\n",
    "label_name = [o.name for o in session.get_outputs()]\n",
    " \n",
    "print(f'input={input_name}, output={label_name}')\n",
    "\n",
    "print(f'onnx pred: {session.run(label_name, {input_name: example.astype(np.float32)})}')\n"
   ]
  },
  {
   "cell_type": "code",
   "execution_count": null,
   "metadata": {},
   "outputs": [
    {
     "name": "stdout",
     "output_type": "stream",
     "text": [
      "accuracy: 0.7133333333333334\n",
      "Confusion Matrix:\n",
      "+-----------------+--------------------+-----------------+\n",
      "|                 | Predicted: boredom | Predicted: flow |\n",
      "+-----------------+--------------------+-----------------+\n",
      "| Actual: boredom |        1397        |       95        |\n",
      "|  Actual: flow   |        765         |       743       |\n",
      "+-----------------+--------------------+-----------------+\n",
      "\n",
      "Classification Report:\n",
      "+--------------+-----------+--------+----------+---------+\n",
      "|              | precision | recall | f1-score | support |\n",
      "+--------------+-----------+--------+----------+---------+\n",
      "|   boredom    |   0.646   | 0.936  |  0.765   | 1492.0  |\n",
      "|     flow     |   0.887   | 0.493  |  0.633   | 1508.0  |\n",
      "|   accuracy   |   0.713   | 0.713  |  0.713   |  0.713  |\n",
      "|  macro avg   |   0.766   | 0.715  |  0.699   | 3000.0  |\n",
      "| weighted avg |   0.767   | 0.713  |  0.699   | 3000.0  |\n",
      "+--------------+-----------+--------+----------+---------+\n"
     ]
    }
   ],
   "source": [
    "print('accuracy:', svm.score(x_test, y_test))\n",
    "\n",
    "from sklearn.metrics import classification_report, confusion_matrix\n",
    "y_pred = svm.predict(x_test)\n",
    "\n",
    "utils.present_confusion_matrix(confusion_matrix(y_test, y_pred))\n",
    "utils.present_metrics(classification_report(y_test, y_pred, target_names=STATES, output_dict=True))"
   ]
  }
 ],
 "metadata": {
  "kernelspec": {
   "display_name": "base",
   "language": "python",
   "name": "python3"
  },
  "language_info": {
   "codemirror_mode": {
    "name": "ipython",
    "version": 3
   },
   "file_extension": ".py",
   "mimetype": "text/x-python",
   "name": "python",
   "nbconvert_exporter": "python",
   "pygments_lexer": "ipython3",
   "version": "3.12.2"
  }
 },
 "nbformat": 4,
 "nbformat_minor": 2
}
