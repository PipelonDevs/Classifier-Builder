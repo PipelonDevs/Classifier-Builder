{
 "cells": [
  {
   "cell_type": "code",
   "execution_count": 1,
   "metadata": {},
   "outputs": [
    {
     "data": {
      "text/plain": [
       "<module 'utils' from '/mnt/cb8c2a81-32e7-40bc-af74-0c1386cda683/programowanie/pipelon/Classifier-Builder/utils.py'>"
      ]
     },
     "execution_count": 1,
     "metadata": {},
     "output_type": "execute_result"
    }
   ],
   "source": [
    "import importlib\n",
    "import numpy as np\n",
    "\n",
    "from constants import *\n",
    "import utils\n",
    "importlib.reload(utils)"
   ]
  },
  {
   "cell_type": "code",
   "execution_count": null,
   "metadata": {},
   "outputs": [
    {
     "data": {
      "text/plain": [
       "((55072, 20), (14968, 2), (10960, 2))"
      ]
     },
     "execution_count": 2,
     "metadata": {},
     "output_type": "execute_result"
    }
   ],
   "source": [
    "x_train, y_train = utils.new_load_data('training')\n",
    "x_test, y_test = utils.new_load_data('testing')\n",
    "x_val, y_val = utils.new_load_data('validation')\n",
    "\n",
    "# x_train, y_train = x_train[:10000], y_train[:10000]\n",
    "# x_test, y_test = x_test[:3000], y_test[:3000]\n",
    "\n",
    "x_train.shape, y_test.shape, y_val.shape "
   ]
  },
  {
   "cell_type": "code",
   "execution_count": 37,
   "metadata": {},
   "outputs": [
    {
     "name": "stdout",
     "output_type": "stream",
     "text": [
      "Classes: ['boredom', 'flow']\n",
      "Class distribution for train: (array([0, 1], dtype=int32), array([55072, 55072]))\n",
      "Class distribution for test: (array([0, 1], dtype=int32), array([14968, 14968]))\n",
      "Class distribution for valid: (array([0, 1], dtype=int32), array([10960, 10960]))\n"
     ]
    }
   ],
   "source": [
    "print(f\"Classes: {STATES}\")\n",
    "print(f\"Class distribution for train: {np.unique(y_train, return_counts=True)}\")\n",
    "print(f\"Class distribution for test: {np.unique(y_test, return_counts=True)}\")\n",
    "print(f\"Class distribution for valid: {np.unique(y_val, return_counts=True)}\")"
   ]
  },
  {
   "cell_type": "code",
   "execution_count": null,
   "metadata": {},
   "outputs": [
    {
     "name": "stderr",
     "output_type": "stream",
     "text": [
      "2024-11-30 01:11:14.226303: E external/local_xla/xla/stream_executor/cuda/cuda_fft.cc:485] Unable to register cuFFT factory: Attempting to register factory for plugin cuFFT when one has already been registered\n",
      "2024-11-30 01:11:14.249256: E external/local_xla/xla/stream_executor/cuda/cuda_dnn.cc:8454] Unable to register cuDNN factory: Attempting to register factory for plugin cuDNN when one has already been registered\n",
      "2024-11-30 01:11:14.258369: E external/local_xla/xla/stream_executor/cuda/cuda_blas.cc:1452] Unable to register cuBLAS factory: Attempting to register factory for plugin cuBLAS when one has already been registered\n",
      "2024-11-30 01:11:14.278433: I tensorflow/core/platform/cpu_feature_guard.cc:210] This TensorFlow binary is optimized to use available CPU instructions in performance-critical operations.\n",
      "To enable the following instructions: SSE4.1 SSE4.2 AVX AVX2 FMA, in other operations, rebuild TensorFlow with the appropriate compiler flags.\n",
      "/home/jakubner/anaconda3/lib/python3.12/site-packages/keras/src/layers/core/dense.py:87: UserWarning: Do not pass an `input_shape`/`input_dim` argument to a layer. When using Sequential models, prefer using an `Input(shape)` object as the first layer in the model instead.\n",
      "  super().__init__(activity_regularizer=activity_regularizer, **kwargs)\n",
      "WARNING: All log messages before absl::InitializeLog() is called are written to STDERR\n",
      "I0000 00:00:1732925476.584285   22965 cuda_executor.cc:1015] successful NUMA node read from SysFS had negative value (-1), but there must be at least one NUMA node, so returning NUMA node zero. See more at https://github.com/torvalds/linux/blob/v6.0/Documentation/ABI/testing/sysfs-bus-pci#L344-L355\n"
     ]
    },
    {
     "name": "stdout",
     "output_type": "stream",
     "text": [
      "Epoch 1/15\n"
     ]
    },
    {
     "name": "stderr",
     "output_type": "stream",
     "text": [
      "I0000 00:00:1732925476.660571   22965 cuda_executor.cc:1015] successful NUMA node read from SysFS had negative value (-1), but there must be at least one NUMA node, so returning NUMA node zero. See more at https://github.com/torvalds/linux/blob/v6.0/Documentation/ABI/testing/sysfs-bus-pci#L344-L355\n",
      "I0000 00:00:1732925476.664056   22965 cuda_executor.cc:1015] successful NUMA node read from SysFS had negative value (-1), but there must be at least one NUMA node, so returning NUMA node zero. See more at https://github.com/torvalds/linux/blob/v6.0/Documentation/ABI/testing/sysfs-bus-pci#L344-L355\n",
      "I0000 00:00:1732925476.668789   22965 cuda_executor.cc:1015] successful NUMA node read from SysFS had negative value (-1), but there must be at least one NUMA node, so returning NUMA node zero. See more at https://github.com/torvalds/linux/blob/v6.0/Documentation/ABI/testing/sysfs-bus-pci#L344-L355\n",
      "I0000 00:00:1732925476.674886   22965 cuda_executor.cc:1015] successful NUMA node read from SysFS had negative value (-1), but there must be at least one NUMA node, so returning NUMA node zero. See more at https://github.com/torvalds/linux/blob/v6.0/Documentation/ABI/testing/sysfs-bus-pci#L344-L355\n",
      "I0000 00:00:1732925476.679070   22965 cuda_executor.cc:1015] successful NUMA node read from SysFS had negative value (-1), but there must be at least one NUMA node, so returning NUMA node zero. See more at https://github.com/torvalds/linux/blob/v6.0/Documentation/ABI/testing/sysfs-bus-pci#L344-L355\n",
      "I0000 00:00:1732925476.870064   22965 cuda_executor.cc:1015] successful NUMA node read from SysFS had negative value (-1), but there must be at least one NUMA node, so returning NUMA node zero. See more at https://github.com/torvalds/linux/blob/v6.0/Documentation/ABI/testing/sysfs-bus-pci#L344-L355\n",
      "I0000 00:00:1732925476.871523   22965 cuda_executor.cc:1015] successful NUMA node read from SysFS had negative value (-1), but there must be at least one NUMA node, so returning NUMA node zero. See more at https://github.com/torvalds/linux/blob/v6.0/Documentation/ABI/testing/sysfs-bus-pci#L344-L355\n",
      "I0000 00:00:1732925476.872754   22965 cuda_executor.cc:1015] successful NUMA node read from SysFS had negative value (-1), but there must be at least one NUMA node, so returning NUMA node zero. See more at https://github.com/torvalds/linux/blob/v6.0/Documentation/ABI/testing/sysfs-bus-pci#L344-L355\n",
      "2024-11-30 01:11:16.873943: I tensorflow/core/common_runtime/gpu/gpu_device.cc:2021] Created device /job:localhost/replica:0/task:0/device:GPU:0 with 2258 MB memory:  -> device: 0, name: NVIDIA GeForce GTX 1650, pci bus id: 0000:01:00.0, compute capability: 7.5\n",
      "I0000 00:00:1732925477.950966   23017 service.cc:146] XLA service 0x72a14c008800 initialized for platform CUDA (this does not guarantee that XLA will be used). Devices:\n",
      "I0000 00:00:1732925477.951003   23017 service.cc:154]   StreamExecutor device (0): NVIDIA GeForce GTX 1650, Compute Capability 7.5\n",
      "2024-11-30 01:11:17.978960: I tensorflow/compiler/mlir/tensorflow/utils/dump_mlir_util.cc:268] disabling MLIR crash reproducer, set env var `MLIR_CRASH_REPRODUCER_DIRECTORY` to enable.\n",
      "2024-11-30 01:11:18.070380: I external/local_xla/xla/stream_executor/cuda/cuda_dnn.cc:531] Loaded cuDNN version 90300\n"
     ]
    },
    {
     "name": "stdout",
     "output_type": "stream",
     "text": [
      "\u001b[1m  71/1721\u001b[0m \u001b[37m━━━━━━━━━━━━━━━━━━━━\u001b[0m \u001b[1m3s\u001b[0m 2ms/step - accuracy: 0.5216 - loss: 1.3902"
     ]
    },
    {
     "name": "stderr",
     "output_type": "stream",
     "text": [
      "I0000 00:00:1732925479.217145   23017 device_compiler.h:188] Compiled cluster using XLA!  This line is logged at most once for the lifetime of the process.\n"
     ]
    },
    {
     "name": "stdout",
     "output_type": "stream",
     "text": [
      "\u001b[1m1703/1721\u001b[0m \u001b[32m━━━━━━━━━━━━━━━━━━━\u001b[0m\u001b[37m━\u001b[0m \u001b[1m0s\u001b[0m 2ms/step - accuracy: 0.6158 - loss: 0.7004\n",
      "Epoch 1: val_loss improved from inf to 0.57630, saving model to ../models/phase_2/phase_2_model.keras\n",
      "\u001b[1m1721/1721\u001b[0m \u001b[32m━━━━━━━━━━━━━━━━━━━━\u001b[0m\u001b[37m\u001b[0m \u001b[1m8s\u001b[0m 3ms/step - accuracy: 0.6163 - loss: 0.6994 - val_accuracy: 0.6946 - val_loss: 0.5763 - learning_rate: 0.0010\n",
      "Epoch 2/15\n",
      "\u001b[1m1716/1721\u001b[0m \u001b[32m━━━━━━━━━━━━━━━━━━━\u001b[0m\u001b[37m━\u001b[0m \u001b[1m0s\u001b[0m 2ms/step - accuracy: 0.7261 - loss: 0.5321\n",
      "Epoch 2: val_loss improved from 0.57630 to 0.51112, saving model to ../models/phase_2/phase_2_model.keras\n",
      "\u001b[1m1721/1721\u001b[0m \u001b[32m━━━━━━━━━━━━━━━━━━━━\u001b[0m\u001b[37m\u001b[0m \u001b[1m4s\u001b[0m 2ms/step - accuracy: 0.7261 - loss: 0.5320 - val_accuracy: 0.7415 - val_loss: 0.5111 - learning_rate: 0.0010\n",
      "Epoch 3/15\n",
      "\u001b[1m1694/1721\u001b[0m \u001b[32m━━━━━━━━━━━━━━━━━━━\u001b[0m\u001b[37m━\u001b[0m \u001b[1m0s\u001b[0m 2ms/step - accuracy: 0.7629 - loss: 0.4744\n",
      "Epoch 3: val_loss improved from 0.51112 to 0.47525, saving model to ../models/phase_2/phase_2_model.keras\n",
      "\u001b[1m1721/1721\u001b[0m \u001b[32m━━━━━━━━━━━━━━━━━━━━\u001b[0m\u001b[37m\u001b[0m \u001b[1m4s\u001b[0m 2ms/step - accuracy: 0.7630 - loss: 0.4742 - val_accuracy: 0.7547 - val_loss: 0.4753 - learning_rate: 0.0010\n",
      "Epoch 4/15\n",
      "\u001b[1m1699/1721\u001b[0m \u001b[32m━━━━━━━━━━━━━━━━━━━\u001b[0m\u001b[37m━\u001b[0m \u001b[1m0s\u001b[0m 2ms/step - accuracy: 0.7877 - loss: 0.4407\n",
      "Epoch 4: val_loss improved from 0.47525 to 0.44603, saving model to ../models/phase_2/phase_2_model.keras\n",
      "\u001b[1m1721/1721\u001b[0m \u001b[32m━━━━━━━━━━━━━━━━━━━━\u001b[0m\u001b[37m\u001b[0m \u001b[1m4s\u001b[0m 2ms/step - accuracy: 0.7878 - loss: 0.4407 - val_accuracy: 0.7867 - val_loss: 0.4460 - learning_rate: 0.0010\n",
      "Epoch 5/15\n",
      "\u001b[1m1697/1721\u001b[0m \u001b[32m━━━━━━━━━━━━━━━━━━━\u001b[0m\u001b[37m━\u001b[0m \u001b[1m0s\u001b[0m 2ms/step - accuracy: 0.8033 - loss: 0.4187\n",
      "Epoch 5: val_loss did not improve from 0.44603\n",
      "\u001b[1m1721/1721\u001b[0m \u001b[32m━━━━━━━━━━━━━━━━━━━━\u001b[0m\u001b[37m\u001b[0m \u001b[1m4s\u001b[0m 2ms/step - accuracy: 0.8033 - loss: 0.4187 - val_accuracy: 0.7729 - val_loss: 0.4576 - learning_rate: 0.0010\n",
      "Epoch 6/15\n",
      "\u001b[1m1710/1721\u001b[0m \u001b[32m━━━━━━━━━━━━━━━━━━━\u001b[0m\u001b[37m━\u001b[0m \u001b[1m0s\u001b[0m 2ms/step - accuracy: 0.8090 - loss: 0.4060\n",
      "Epoch 6: val_loss improved from 0.44603 to 0.42711, saving model to ../models/phase_2/phase_2_model.keras\n",
      "\u001b[1m1721/1721\u001b[0m \u001b[32m━━━━━━━━━━━━━━━━━━━━\u001b[0m\u001b[37m\u001b[0m \u001b[1m4s\u001b[0m 2ms/step - accuracy: 0.8090 - loss: 0.4060 - val_accuracy: 0.7925 - val_loss: 0.4271 - learning_rate: 0.0010\n",
      "Epoch 7/15\n",
      "\u001b[1m1695/1721\u001b[0m \u001b[32m━━━━━━━━━━━━━━━━━━━\u001b[0m\u001b[37m━\u001b[0m \u001b[1m0s\u001b[0m 2ms/step - accuracy: 0.8135 - loss: 0.3967\n",
      "Epoch 7: val_loss improved from 0.42711 to 0.41962, saving model to ../models/phase_2/phase_2_model.keras\n",
      "\u001b[1m1721/1721\u001b[0m \u001b[32m━━━━━━━━━━━━━━━━━━━━\u001b[0m\u001b[37m\u001b[0m \u001b[1m4s\u001b[0m 2ms/step - accuracy: 0.8135 - loss: 0.3967 - val_accuracy: 0.8122 - val_loss: 0.4196 - learning_rate: 0.0010\n",
      "Epoch 8/15\n",
      "\u001b[1m1692/1721\u001b[0m \u001b[32m━━━━━━━━━━━━━━━━━━━\u001b[0m\u001b[37m━\u001b[0m \u001b[1m0s\u001b[0m 2ms/step - accuracy: 0.8166 - loss: 0.3908\n",
      "Epoch 8: val_loss improved from 0.41962 to 0.41365, saving model to ../models/phase_2/phase_2_model.keras\n",
      "\u001b[1m1721/1721\u001b[0m \u001b[32m━━━━━━━━━━━━━━━━━━━━\u001b[0m\u001b[37m\u001b[0m \u001b[1m4s\u001b[0m 2ms/step - accuracy: 0.8166 - loss: 0.3908 - val_accuracy: 0.8139 - val_loss: 0.4136 - learning_rate: 0.0010\n",
      "Epoch 9/15\n",
      "\u001b[1m1697/1721\u001b[0m \u001b[32m━━━━━━━━━━━━━━━━━━━\u001b[0m\u001b[37m━\u001b[0m \u001b[1m0s\u001b[0m 2ms/step - accuracy: 0.8184 - loss: 0.3855\n",
      "Epoch 9: val_loss improved from 0.41365 to 0.40463, saving model to ../models/phase_2/phase_2_model.keras\n",
      "\u001b[1m1721/1721\u001b[0m \u001b[32m━━━━━━━━━━━━━━━━━━━━\u001b[0m\u001b[37m\u001b[0m \u001b[1m4s\u001b[0m 2ms/step - accuracy: 0.8184 - loss: 0.3855 - val_accuracy: 0.8117 - val_loss: 0.4046 - learning_rate: 0.0010\n",
      "Epoch 10/15\n",
      "\u001b[1m1696/1721\u001b[0m \u001b[32m━━━━━━━━━━━━━━━━━━━\u001b[0m\u001b[37m━\u001b[0m \u001b[1m0s\u001b[0m 2ms/step - accuracy: 0.8222 - loss: 0.3792\n",
      "Epoch 10: val_loss did not improve from 0.40463\n",
      "\u001b[1m1721/1721\u001b[0m \u001b[32m━━━━━━━━━━━━━━━━━━━━\u001b[0m\u001b[37m\u001b[0m \u001b[1m4s\u001b[0m 2ms/step - accuracy: 0.8222 - loss: 0.3792 - val_accuracy: 0.8006 - val_loss: 0.4152 - learning_rate: 0.0010\n",
      "Epoch 11/15\n",
      "\u001b[1m1716/1721\u001b[0m \u001b[32m━━━━━━━━━━━━━━━━━━━\u001b[0m\u001b[37m━\u001b[0m \u001b[1m0s\u001b[0m 2ms/step - accuracy: 0.8224 - loss: 0.3804\n",
      "Epoch 11: val_loss improved from 0.40463 to 0.39900, saving model to ../models/phase_2/phase_2_model.keras\n",
      "\u001b[1m1721/1721\u001b[0m \u001b[32m━━━━━━━━━━━━━━━━━━━━\u001b[0m\u001b[37m\u001b[0m \u001b[1m4s\u001b[0m 2ms/step - accuracy: 0.8224 - loss: 0.3803 - val_accuracy: 0.8161 - val_loss: 0.3990 - learning_rate: 0.0010\n",
      "Epoch 12/15\n",
      "\u001b[1m1703/1721\u001b[0m \u001b[32m━━━━━━━━━━━━━━━━━━━\u001b[0m\u001b[37m━\u001b[0m \u001b[1m0s\u001b[0m 2ms/step - accuracy: 0.8279 - loss: 0.3688\n",
      "Epoch 12: val_loss did not improve from 0.39900\n",
      "\u001b[1m1721/1721\u001b[0m \u001b[32m━━━━━━━━━━━━━━━━━━━━\u001b[0m\u001b[37m\u001b[0m \u001b[1m4s\u001b[0m 2ms/step - accuracy: 0.8279 - loss: 0.3689 - val_accuracy: 0.8160 - val_loss: 0.4021 - learning_rate: 0.0010\n",
      "Epoch 13/15\n",
      "\u001b[1m1696/1721\u001b[0m \u001b[32m━━━━━━━━━━━━━━━━━━━\u001b[0m\u001b[37m━\u001b[0m \u001b[1m0s\u001b[0m 2ms/step - accuracy: 0.8273 - loss: 0.3711\n",
      "Epoch 13: val_loss improved from 0.39900 to 0.38400, saving model to ../models/phase_2/phase_2_model.keras\n",
      "\u001b[1m1721/1721\u001b[0m \u001b[32m━━━━━━━━━━━━━━━━━━━━\u001b[0m\u001b[37m\u001b[0m \u001b[1m4s\u001b[0m 2ms/step - accuracy: 0.8273 - loss: 0.3711 - val_accuracy: 0.8270 - val_loss: 0.3840 - learning_rate: 0.0010\n",
      "Epoch 14/15\n",
      "\u001b[1m1711/1721\u001b[0m \u001b[32m━━━━━━━━━━━━━━━━━━━\u001b[0m\u001b[37m━\u001b[0m \u001b[1m0s\u001b[0m 1ms/step - accuracy: 0.8257 - loss: 0.3702\n",
      "Epoch 14: val_loss did not improve from 0.38400\n",
      "\u001b[1m1721/1721\u001b[0m \u001b[32m━━━━━━━━━━━━━━━━━━━━\u001b[0m\u001b[37m\u001b[0m \u001b[1m3s\u001b[0m 2ms/step - accuracy: 0.8257 - loss: 0.3702 - val_accuracy: 0.8250 - val_loss: 0.3849 - learning_rate: 0.0010\n",
      "Epoch 15/15\n",
      "\u001b[1m1702/1721\u001b[0m \u001b[32m━━━━━━━━━━━━━━━━━━━\u001b[0m\u001b[37m━\u001b[0m \u001b[1m0s\u001b[0m 2ms/step - accuracy: 0.8322 - loss: 0.3634\n",
      "Epoch 15: val_loss did not improve from 0.38400\n",
      "\u001b[1m1721/1721\u001b[0m \u001b[32m━━━━━━━━━━━━━━━━━━━━\u001b[0m\u001b[37m\u001b[0m \u001b[1m4s\u001b[0m 2ms/step - accuracy: 0.8322 - loss: 0.3635 - val_accuracy: 0.8200 - val_loss: 0.3922 - learning_rate: 0.0010\n"
     ]
    }
   ],
   "source": [
    "import tensorflow as tf\n",
    "\n",
    "checkpoint_callback = tf.keras.callbacks.ModelCheckpoint(\n",
    "    filepath='../models/phase_2/phase_2_model.keras',\n",
    "    save_best_only=True,\n",
    "    monitor='val_loss',\n",
    "    mode='min',\n",
    "    verbose=1\n",
    ")\n",
    "\n",
    "lr_scheduler = tf.keras.callbacks.ReduceLROnPlateau(\n",
    "    monitor='val_loss',\n",
    "    factor=0.6,\n",
    "    patience=3,\n",
    "    min_lr=1e-6,\n",
    "    verbose=1\n",
    ")\n",
    "model = tf.keras.models.Sequential([\n",
    "    tf.keras.layers.Dense(20, activation='relu6', input_shape=(x_train.shape[1],)),\n",
    "    tf.keras.layers.Dense(len(STATES), activation='softmax'),\n",
    "])\n",
    "\n",
    "model.compile(optimizer='adam', loss='categorical_crossentropy', metrics=['accuracy'])\n",
    "history = model.fit(\n",
    "  x_train, \n",
    "  y_train, \n",
    "  epochs=15, \n",
    "  verbose=1,\n",
    "  validation_data=(x_test, y_test),\n",
    "  callbacks=[checkpoint_callback, lr_scheduler]\n",
    ")\n"
   ]
  },
  {
   "cell_type": "code",
   "execution_count": 12,
   "metadata": {},
   "outputs": [
    {
     "data": {
      "image/png": "[encoded data removed]",
      "text/plain": [
       "<Figure size 1000x500 with 2 Axes>"
      ]
     },
     "metadata": {},
     "output_type": "display_data"
    }
   ],
   "source": [
    "import matplotlib.pyplot as plt\n",
    "fig, axs = plt.subplots(1, 2, figsize=(10, 5))  \n",
    "fig.suptitle('Boredom-Flow MLP Training history')\n",
    "\n",
    "axs[0].plot(history.history['accuracy'], label='accuracy')\n",
    "axs[0].plot(history.history['val_accuracy'], label='val_accuracy')\n",
    "axs[0].legend()\n",
    "\n",
    "axs[1].plot(history.history['loss'], label='loss')\n",
    "axs[1].plot(history.history['val_loss'], label='val_loss')\n",
    "axs[1].legend()\n",
    "plt.show()"
   ]
  },
  {
   "cell_type": "code",
   "execution_count": 11,
   "metadata": {},
   "outputs": [
    {
     "name": "stdout",
     "output_type": "stream",
     "text": [
      "\u001b[1m468/468\u001b[0m \u001b[32m━━━━━━━━━━━━━━━━━━━━\u001b[0m\u001b[37m\u001b[0m \u001b[1m1s\u001b[0m 2ms/step\n",
      "Confusion Matrix:\n",
      "+-----------------+--------------------+-----------------+\n",
      "|                 | Predicted: boredom | Predicted: flow |\n",
      "+-----------------+--------------------+-----------------+\n",
      "| Actual: boredom |        6047        |      1413       |\n",
      "|  Actual: flow   |        1177        |      6331       |\n",
      "+-----------------+--------------------+-----------------+\n",
      "\n",
      "Classification Report:\n",
      "+--------------+-----------+--------+----------+---------+\n",
      "|              | precision | recall | f1-score | support |\n",
      "+--------------+-----------+--------+----------+---------+\n",
      "|   boredom    |   0.837   | 0.811  |  0.824   | 7460.0  |\n",
      "|     flow     |   0.818   | 0.843  |   0.83   | 7508.0  |\n",
      "|   accuracy   |   0.827   | 0.827  |  0.827   |  0.827  |\n",
      "|  macro avg   |   0.827   | 0.827  |  0.827   | 14968.0 |\n",
      "| weighted avg |   0.827   | 0.827  |  0.827   | 14968.0 |\n",
      "+--------------+-----------+--------+----------+---------+\n"
     ]
    }
   ],
   "source": [
    "\n",
    "from sklearn.metrics import classification_report, confusion_matrix\n",
    "best_model = tf.keras.models.load_model('../models/phase_2/phase_2_model.keras')\n",
    "y_pred = best_model.predict(x_test).argmax(axis=1)\n",
    "\n",
    "true_y = y_test.argmax(axis=1)\n",
    "utils.present_confusion_matrix(confusion_matrix(true_y, y_pred))\n",
    "utils.present_metrics(classification_report(true_y, y_pred, target_names=STATES, output_dict=True))"
   ]
  },
  {
   "cell_type": "code",
   "execution_count": 35,
   "metadata": {},
   "outputs": [
    {
     "name": "stdout",
     "output_type": "stream",
     "text": [
      "INFO:tensorflow:Assets written to: ./tmp-boredom-flow-30-11/assets\n"
     ]
    },
    {
     "name": "stderr",
     "output_type": "stream",
     "text": [
      "INFO:tensorflow:Assets written to: ./tmp-boredom-flow-30-11/assets\n"
     ]
    },
    {
     "name": "stdout",
     "output_type": "stream",
     "text": [
      "Saved artifact at './tmp-boredom-flow-30-11'. The following endpoints are available:\n",
      "\n",
      "* Endpoint 'serve'\n",
      "  args_0 (POSITIONAL_ONLY): TensorSpec(shape=(None, 20), dtype=tf.float32, name='input_layer')\n",
      "Output Type:\n",
      "  TensorSpec(shape=(None, 2), dtype=tf.float32, name=None)\n",
      "Captures:\n",
      "  126038704751056: TensorSpec(shape=(), dtype=tf.resource, name=None)\n",
      "  126038704750864: TensorSpec(shape=(), dtype=tf.resource, name=None)\n",
      "  126038704754320: TensorSpec(shape=(), dtype=tf.resource, name=None)\n",
      "  126038704755088: TensorSpec(shape=(), dtype=tf.resource, name=None)\n",
      "2024-11-30 01:56:30.317393: E external/local_xla/xla/stream_executor/cuda/cuda_fft.cc:485] Unable to register cuFFT factory: Attempting to register factory for plugin cuFFT when one has already been registered\n",
      "2024-11-30 01:56:30.342200: E external/local_xla/xla/stream_executor/cuda/cuda_dnn.cc:8454] Unable to register cuDNN factory: Attempting to register factory for plugin cuDNN when one has already been registered\n",
      "2024-11-30 01:56:30.349544: E external/local_xla/xla/stream_executor/cuda/cuda_blas.cc:1452] Unable to register cuBLAS factory: Attempting to register factory for plugin cuBLAS when one has already been registered\n",
      "2024-11-30 01:56:30.366279: I tensorflow/core/platform/cpu_feature_guard.cc:210] This TensorFlow binary is optimized to use available CPU instructions in performance-critical operations.\n",
      "To enable the following instructions: SSE4.1 SSE4.2 AVX AVX2 FMA, in other operations, rebuild TensorFlow with the appropriate compiler flags.\n",
      "<frozen runpy>:128: RuntimeWarning: 'tf2onnx.convert' found in sys.modules after import of package 'tf2onnx', but prior to execution of 'tf2onnx.convert'; this may result in unpredictable behaviour\n",
      "2024-11-30 01:56:33,842 - WARNING - ***IMPORTANT*** Installed protobuf is not cpp accelerated. Conversion will be extremely slow. See https://github.com/onnx/tensorflow-onnx/issues/1557\n",
      "WARNING: All log messages before absl::InitializeLog() is called are written to STDERR\n",
      "I0000 00:00:1732928193.863308   28183 cuda_executor.cc:1015] successful NUMA node read from SysFS had negative value (-1), but there must be at least one NUMA node, so returning NUMA node zero. See more at https://github.com/torvalds/linux/blob/v6.0/Documentation/ABI/testing/sysfs-bus-pci#L344-L355\n",
      "I0000 00:00:1732928193.938673   28183 cuda_executor.cc:1015] successful NUMA node read from SysFS had negative value (-1), but there must be at least one NUMA node, so returning NUMA node zero. See more at https://github.com/torvalds/linux/blob/v6.0/Documentation/ABI/testing/sysfs-bus-pci#L344-L355\n",
      "I0000 00:00:1732928193.940383   28183 cuda_executor.cc:1015] successful NUMA node read from SysFS had negative value (-1), but there must be at least one NUMA node, so returning NUMA node zero. See more at https://github.com/torvalds/linux/blob/v6.0/Documentation/ABI/testing/sysfs-bus-pci#L344-L355\n",
      "I0000 00:00:1732928193.943282   28183 cuda_executor.cc:1015] successful NUMA node read from SysFS had negative value (-1), but there must be at least one NUMA node, so returning NUMA node zero. See more at https://github.com/torvalds/linux/blob/v6.0/Documentation/ABI/testing/sysfs-bus-pci#L344-L355\n",
      "I0000 00:00:1732928193.945106   28183 cuda_executor.cc:1015] successful NUMA node read from SysFS had negative value (-1), but there must be at least one NUMA node, so returning NUMA node zero. See more at https://github.com/torvalds/linux/blob/v6.0/Documentation/ABI/testing/sysfs-bus-pci#L344-L355\n",
      "I0000 00:00:1732928193.946996   28183 cuda_executor.cc:1015] successful NUMA node read from SysFS had negative value (-1), but there must be at least one NUMA node, so returning NUMA node zero. See more at https://github.com/torvalds/linux/blob/v6.0/Documentation/ABI/testing/sysfs-bus-pci#L344-L355\n",
      "I0000 00:00:1732928194.153660   28183 cuda_executor.cc:1015] successful NUMA node read from SysFS had negative value (-1), but there must be at least one NUMA node, so returning NUMA node zero. See more at https://github.com/torvalds/linux/blob/v6.0/Documentation/ABI/testing/sysfs-bus-pci#L344-L355\n",
      "I0000 00:00:1732928194.155931   28183 cuda_executor.cc:1015] successful NUMA node read from SysFS had negative value (-1), but there must be at least one NUMA node, so returning NUMA node zero. See more at https://github.com/torvalds/linux/blob/v6.0/Documentation/ABI/testing/sysfs-bus-pci#L344-L355\n",
      "I0000 00:00:1732928194.157494   28183 cuda_executor.cc:1015] successful NUMA node read from SysFS had negative value (-1), but there must be at least one NUMA node, so returning NUMA node zero. See more at https://github.com/torvalds/linux/blob/v6.0/Documentation/ABI/testing/sysfs-bus-pci#L344-L355\n",
      "2024-11-30 01:56:34.159299: I tensorflow/core/common_runtime/gpu/gpu_device.cc:2021] Created device /job:localhost/replica:0/task:0/device:GPU:0 with 689 MB memory:  -> device: 0, name: NVIDIA GeForce GTX 1650, pci bus id: 0000:01:00.0, compute capability: 7.5\n",
      "2024-11-30 01:56:34,161 - WARNING - '--tag' not specified for saved_model. Using --tag serve\n",
      "Traceback (most recent call last):\n",
      "  File \"<frozen runpy>\", line 198, in _run_module_as_main\n",
      "  File \"<frozen runpy>\", line 88, in _run_code\n",
      "  File \"/home/jakubner/anaconda3/lib/python3.12/site-packages/tf2onnx/convert.py\", line 714, in <module>\n",
      "    main()\n",
      "  File \"/home/jakubner/anaconda3/lib/python3.12/site-packages/tf2onnx/convert.py\", line 242, in main\n",
      "    graph_def, inputs, outputs, initialized_tables, tensors_to_rename = tf_loader.from_saved_model(\n",
      "                                                                        ^^^^^^^^^^^^^^^^^^^^^^^^^^^\n",
      "  File \"/home/jakubner/anaconda3/lib/python3.12/site-packages/tf2onnx/tf_loader.py\", line 636, in from_saved_model\n",
      "    _from_saved_model_v2(model_path, input_names, output_names,\n",
      "  File \"/home/jakubner/anaconda3/lib/python3.12/site-packages/tf2onnx/tf_loader.py\", line 570, in _from_saved_model_v2\n",
      "    imported = tf.saved_model.load(model_path, tags=tag)  # pylint: disable=no-value-for-parameter\n",
      "               ^^^^^^^^^^^^^^^^^^^^^^^^^^^^^^^^^^^^^^^^^\n",
      "  File \"/home/jakubner/anaconda3/lib/python3.12/site-packages/tensorflow/python/saved_model/load.py\", line 912, in load\n",
      "    result = load_partial(export_dir, None, tags, options)[\"root\"]\n",
      "             ^^^^^^^^^^^^^^^^^^^^^^^^^^^^^^^^^^^^^^^^^^^^^\n",
      "  File \"/home/jakubner/anaconda3/lib/python3.12/site-packages/tensorflow/python/saved_model/load.py\", line 1016, in load_partial\n",
      "    loader_impl.parse_saved_model_with_debug_info(export_dir))\n",
      "    ^^^^^^^^^^^^^^^^^^^^^^^^^^^^^^^^^^^^^^^^^^^^^^^^^^^^^^^^^\n",
      "  File \"/home/jakubner/anaconda3/lib/python3.12/site-packages/tensorflow/python/saved_model/loader_impl.py\", line 59, in parse_saved_model_with_debug_info\n",
      "    saved_model = parse_saved_model(export_dir)\n",
      "                  ^^^^^^^^^^^^^^^^^^^^^^^^^^^^^\n",
      "  File \"/home/jakubner/anaconda3/lib/python3.12/site-packages/tensorflow/python/saved_model/loader_impl.py\", line 119, in parse_saved_model\n",
      "    raise IOError(\n",
      "OSError: SavedModel file does not exist at: ftmp-boredom-flow-30-11/{saved_model.pbtxt|saved_model.pb}\n",
      "rm: cannot remove 'ftmp-boredom-flow-30-11': No such file or directory\n"
     ]
    }
   ],
   "source": [
    "MODEL_NAME = 'boredom-flow-30-11'\n",
    "\n",
    "best_model.export(f'./tmp-{MODEL_NAME}')\n",
    "\n",
    "!python -m tf2onnx.convert \\\n",
    "        --saved-model f\"tmp-{MODEL_NAME}\" \\\n",
    "        --output f\"./exported_models/{MODEL_NAME}\" \\\n",
    "        --opset 9 \n",
    "!rm -r f\"tmp-{MODEL_NAME}\""
   ]
  },
  {
   "cell_type": "code",
   "execution_count": null,
   "metadata": {},
   "outputs": [
    {
     "data": {
      "text/plain": [
       "(1, 20)"
      ]
     },
     "execution_count": 6,
     "metadata": {},
     "output_type": "execute_result"
    }
   ],
   "source": [
    "example = x_test[0].reshape(1, -1)\n",
    "example.astype(np.float32).shape"
   ]
  },
  {
   "cell_type": "code",
   "execution_count": null,
   "metadata": {},
   "outputs": [
    {
     "name": "stdout",
     "output_type": "stream",
     "text": [
      "input=dense_input, output=['dense_1']\n",
      "onnx pred: [array([[0.8251859 , 0.17481413]], dtype=float32)]\n"
     ]
    },
    {
     "name": "stderr",
     "output_type": "stream",
     "text": [
      "\u001b[0;93m2024-11-21 23:28:59.210450126 [W:onnxruntime:, graph.cc:1296 Graph] Initializer StatefulPartitionedCall/sequential/dense_1/MatMul/ReadVariableOp:0 appears in graph inputs and will not be treated as constant value/weight. This may prevent some of the graph optimizations, like const folding. Move it out of graph inputs if there is no need to override it, by either re-generating the model with latest exporter/converter or with the tool onnxruntime/tools/python/remove_initializer_from_input.py.\u001b[m\n",
      "\u001b[0;93m2024-11-21 23:28:59.210477707 [W:onnxruntime:, graph.cc:1296 Graph] Initializer StatefulPartitionedCall/sequential/dense_1/BiasAdd/ReadVariableOp:0 appears in graph inputs and will not be treated as constant value/weight. This may prevent some of the graph optimizations, like const folding. Move it out of graph inputs if there is no need to override it, by either re-generating the model with latest exporter/converter or with the tool onnxruntime/tools/python/remove_initializer_from_input.py.\u001b[m\n",
      "\u001b[0;93m2024-11-21 23:28:59.210490815 [W:onnxruntime:, graph.cc:1296 Graph] Initializer StatefulPartitionedCall/sequential/dense/MatMul/ReadVariableOp:0 appears in graph inputs and will not be treated as constant value/weight. This may prevent some of the graph optimizations, like const folding. Move it out of graph inputs if there is no need to override it, by either re-generating the model with latest exporter/converter or with the tool onnxruntime/tools/python/remove_initializer_from_input.py.\u001b[m\n",
      "\u001b[0;93m2024-11-21 23:28:59.210498766 [W:onnxruntime:, graph.cc:1296 Graph] Initializer StatefulPartitionedCall/sequential/dense/BiasAdd/ReadVariableOp:0 appears in graph inputs and will not be treated as constant value/weight. This may prevent some of the graph optimizations, like const folding. Move it out of graph inputs if there is no need to override it, by either re-generating the model with latest exporter/converter or with the tool onnxruntime/tools/python/remove_initializer_from_input.py.\u001b[m\n"
     ]
    }
   ],
   "source": [
    "\n",
    "import numpy as np\n",
    "import onnxruntime as rt\n",
    "\n",
    "session = rt.InferenceSession(\"./output/mnist1.onnx\")\n",
    "input_name = session.get_inputs()[0].name\n",
    "label_name = [o.name for o in session.get_outputs()]\n",
    " \n",
    "print(f'input={input_name}, output={label_name}')\n",
    "\n",
    "print(f'onnx pred: {session.run(label_name, {input_name: example.astype(np.float32)})}')\n"
   ]
  },
  {
   "cell_type": "code",
   "execution_count": null,
   "metadata": {},
   "outputs": [
    {
     "name": "stdout",
     "output_type": "stream",
     "text": [
      "accuracy: 0.7133333333333334\n",
      "Confusion Matrix:\n",
      "+-----------------+--------------------+-----------------+\n",
      "|                 | Predicted: boredom | Predicted: flow |\n",
      "+-----------------+--------------------+-----------------+\n",
      "| Actual: boredom |        1397        |       95        |\n",
      "|  Actual: flow   |        765         |       743       |\n",
      "+-----------------+--------------------+-----------------+\n",
      "\n",
      "Classification Report:\n",
      "+--------------+-----------+--------+----------+---------+\n",
      "|              | precision | recall | f1-score | support |\n",
      "+--------------+-----------+--------+----------+---------+\n",
      "|   boredom    |   0.646   | 0.936  |  0.765   | 1492.0  |\n",
      "|     flow     |   0.887   | 0.493  |  0.633   | 1508.0  |\n",
      "|   accuracy   |   0.713   | 0.713  |  0.713   |  0.713  |\n",
      "|  macro avg   |   0.766   | 0.715  |  0.699   | 3000.0  |\n",
      "| weighted avg |   0.767   | 0.713  |  0.699   | 3000.0  |\n",
      "+--------------+-----------+--------+----------+---------+\n"
     ]
    }
   ],
   "source": [
    "print('accuracy:', svm.score(x_test, y_test))\n",
    "\n",
    "from sklearn.metrics import classification_report, confusion_matrix\n",
    "y_pred = svm.predict(x_test)\n",
    "\n",
    "utils.present_confusion_matrix(confusion_matrix(y_test, y_pred))\n",
    "utils.present_metrics(classification_report(y_test, y_pred, target_names=STATES, output_dict=True))"
   ]
  }
 ],
 "metadata": {
  "kernelspec": {
   "display_name": "base",
   "language": "python",
   "name": "python3"
  },
  "language_info": {
   "codemirror_mode": {
    "name": "ipython",
    "version": 3
   },
   "file_extension": ".py",
   "mimetype": "text/x-python",
   "name": "python",
   "nbconvert_exporter": "python",
   "pygments_lexer": "ipython3",
   "version": "3.12.2"
  }
 },
 "nbformat": 4,
 "nbformat_minor": 2
}
