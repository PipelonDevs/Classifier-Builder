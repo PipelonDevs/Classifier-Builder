{
 "cells": [
  {
   "cell_type": "code",
   "execution_count": 35,
   "metadata": {},
   "outputs": [],
   "source": [
    "import importlib\n",
    "\n",
    "import torch\n",
    "import torch.nn as nn\n",
    "import torch.optim as optim\n",
    " \n",
    "from constants import *\n",
    "import utils\n",
    "importlib.reload(utils)\n",
    "\n",
    "CLASSIFIED_STATES = ['boredom', 'flow', 'frustration', 'neutral']\n",
    "\n",
    "HIDDEN_SIZE = len(DATA_COLUMNS)\n",
    "OUTPUT_SIZE = len(CLASSIFIED_STATES)"
   ]
  },
  {
   "cell_type": "code",
   "execution_count": 36,
   "metadata": {},
   "outputs": [],
   "source": [
    "class MentalStateClassifier(nn.Module):\n",
    "  def __init__(self, svm):\n",
    "    super().__init__()\n",
    "    self.SVM = svm\n",
    "\n",
    "  def forward(self, x): # (1, 25, 40) -> (1, 4)\n",
    "    x = x.mean(dim=1) # Average 1 second of data \n",
    "    x = self.SVM.predict(x)\n",
    "    return x\n",
    "    \n",
    "model = MentalStateClassifier()\n",
    " \n",
    "loss_fn = nn.CrossEntropyLoss()\n",
    "optimizer = optim.Adam(model.parameters(), lr=0.001)"
   ]
  },
  {
   "cell_type": "code",
   "execution_count": 37,
   "metadata": {},
   "outputs": [],
   "source": [
    "n_epochs = 14\n",
    "batch_size = 8\n",
    "n_batches = utils.getTrainingRowNum(CLASSIFIED_STATES) // SAMPLING_RATE // batch_size - 5"
   ]
  },
  {
   "cell_type": "code",
   "execution_count": 32,
   "metadata": {},
   "outputs": [
    {
     "name": "stderr",
     "output_type": "stream",
     "text": [
      "Epoch 0: 100%|██████████| 546/546 [00:04<00:00, 125.98batch/s, acc=0, loss=0.839]\n"
     ]
    },
    {
     "name": "stdout",
     "output_type": "stream",
     "text": [
      "Epoch 0 validation: Cross-entropy=1.1784, Accuracy=0.4048\n"
     ]
    },
    {
     "name": "stderr",
     "output_type": "stream",
     "text": [
      "Epoch 1: 100%|██████████| 546/546 [00:03<00:00, 145.92batch/s, acc=0, loss=0.629]\n"
     ]
    },
    {
     "name": "stdout",
     "output_type": "stream",
     "text": [
      "Epoch 1 validation: Cross-entropy=1.4152, Accuracy=0.3783\n"
     ]
    },
    {
     "name": "stderr",
     "output_type": "stream",
     "text": [
      "Epoch 2: 100%|██████████| 546/546 [00:06<00:00, 88.21batch/s, acc=0, loss=0.71]  \n"
     ]
    },
    {
     "name": "stdout",
     "output_type": "stream",
     "text": [
      "Epoch 2 validation: Cross-entropy=1.2857, Accuracy=0.4206\n"
     ]
    },
    {
     "name": "stderr",
     "output_type": "stream",
     "text": [
      "Epoch 3: 100%|██████████| 546/546 [00:04<00:00, 113.56batch/s, acc=0, loss=0.624]\n"
     ]
    },
    {
     "name": "stdout",
     "output_type": "stream",
     "text": [
      "Epoch 3 validation: Cross-entropy=1.2167, Accuracy=0.381\n"
     ]
    },
    {
     "name": "stderr",
     "output_type": "stream",
     "text": [
      "Epoch 4: 100%|██████████| 546/546 [00:04<00:00, 132.55batch/s, acc=0, loss=0.693]\n"
     ]
    },
    {
     "name": "stdout",
     "output_type": "stream",
     "text": [
      "Epoch 4 validation: Cross-entropy=1.7379, Accuracy=0.364\n"
     ]
    },
    {
     "name": "stderr",
     "output_type": "stream",
     "text": [
      "Epoch 5: 100%|██████████| 546/546 [00:04<00:00, 135.69batch/s, acc=0, loss=0.418] \n"
     ]
    },
    {
     "name": "stdout",
     "output_type": "stream",
     "text": [
      "Epoch 5 validation: Cross-entropy=1.4893, Accuracy=0.4476\n"
     ]
    },
    {
     "name": "stderr",
     "output_type": "stream",
     "text": [
      "Epoch 6: 100%|██████████| 546/546 [00:04<00:00, 132.27batch/s, acc=0, loss=0.538] \n"
     ]
    },
    {
     "name": "stdout",
     "output_type": "stream",
     "text": [
      "Epoch 6 validation: Cross-entropy=1.4962, Accuracy=0.4265\n"
     ]
    },
    {
     "name": "stderr",
     "output_type": "stream",
     "text": [
      "Epoch 7: 100%|██████████| 546/546 [00:03<00:00, 138.46batch/s, acc=0, loss=0.459]\n"
     ]
    },
    {
     "name": "stdout",
     "output_type": "stream",
     "text": [
      "Epoch 7 validation: Cross-entropy=1.1684, Accuracy=0.4254\n"
     ]
    },
    {
     "name": "stderr",
     "output_type": "stream",
     "text": [
      "Epoch 8: 100%|██████████| 546/546 [00:03<00:00, 136.55batch/s, acc=0, loss=0.452]\n"
     ]
    },
    {
     "name": "stdout",
     "output_type": "stream",
     "text": [
      "Epoch 8 validation: Cross-entropy=1.8821, Accuracy=0.3847\n"
     ]
    },
    {
     "name": "stderr",
     "output_type": "stream",
     "text": [
      "Epoch 9: 100%|██████████| 546/546 [00:03<00:00, 139.74batch/s, acc=0, loss=0.831] \n"
     ]
    },
    {
     "name": "stdout",
     "output_type": "stream",
     "text": [
      "Epoch 9 validation: Cross-entropy=1.27, Accuracy=0.4323\n"
     ]
    },
    {
     "name": "stderr",
     "output_type": "stream",
     "text": [
      "Epoch 10: 100%|██████████| 546/546 [00:04<00:00, 133.22batch/s, acc=0, loss=0.795] \n"
     ]
    },
    {
     "name": "stdout",
     "output_type": "stream",
     "text": [
      "Epoch 10 validation: Cross-entropy=1.1208, Accuracy=0.4397\n"
     ]
    },
    {
     "name": "stderr",
     "output_type": "stream",
     "text": [
      "Epoch 11: 100%|██████████| 546/546 [00:03<00:00, 139.94batch/s, acc=0, loss=0.353] \n"
     ]
    },
    {
     "name": "stdout",
     "output_type": "stream",
     "text": [
      "Epoch 11 validation: Cross-entropy=1.3485, Accuracy=0.409\n"
     ]
    },
    {
     "name": "stderr",
     "output_type": "stream",
     "text": [
      "Epoch 12: 100%|██████████| 546/546 [00:04<00:00, 134.15batch/s, acc=0, loss=0.879] \n"
     ]
    },
    {
     "name": "stdout",
     "output_type": "stream",
     "text": [
      "Epoch 12 validation: Cross-entropy=1.5645, Accuracy=0.4132\n"
     ]
    },
    {
     "name": "stderr",
     "output_type": "stream",
     "text": [
      "Epoch 13: 100%|██████████| 546/546 [00:04<00:00, 127.26batch/s, acc=1, loss=0.0954]\n"
     ]
    },
    {
     "name": "stdout",
     "output_type": "stream",
     "text": [
      "Epoch 13 validation: Cross-entropy=1.5402, Accuracy=0.418\n"
     ]
    },
    {
     "data": {
      "text/plain": [
       "<All keys matched successfully>"
      ]
     },
     "execution_count": 32,
     "metadata": {},
     "output_type": "execute_result"
    }
   ],
   "source": [
    "import copy\n",
    "import tqdm\n",
    "import numpy as np\n",
    "importlib.reload(utils)\n",
    "\n",
    "best_acc = - np.inf\n",
    "best_weights = None\n",
    "train_loss_hist = []\n",
    "train_acc_hist = []\n",
    "test_loss_hist = []\n",
    "test_acc_hist = []\n",
    "X_batch = None # for exporting to ONNX\n",
    "\n",
    "for epoch in range(n_epochs):\n",
    "  epoch_loss = []\n",
    "  epoch_acc = []\n",
    "  model.train() # set model to training mode\n",
    "  data_loader = utils.lazy_load_training_data(states=CLASSIFIED_STATES)\n",
    "\n",
    "  X_train, y_train = next(data_loader)\n",
    "\n",
    "  with tqdm.trange(n_batches, unit=\"batch\", mininterval=0) as bar:\n",
    "    bar.set_description(f\"Epoch {epoch}\")\n",
    "    j = 0\n",
    "    for i in bar:\n",
    "      start = j * batch_size\n",
    "      if start + batch_size >= len(X_train):\n",
    "        j = 0\n",
    "        start = 0\n",
    "        X_train, y_train = next(data_loader)\n",
    "      \n",
    "      j += 1\n",
    "      X_batch = X_train[start:start+batch_size]\n",
    "      y_batch = y_train[start:start+batch_size] \n",
    "\n",
    "      # forward pass\n",
    "      y_pred = model(X_batch)\n",
    "      loss = loss_fn(y_pred, y_batch)\n",
    "      \n",
    "      # backward pass\n",
    "      optimizer.zero_grad()\n",
    "      loss.backward()\n",
    "      # update weights\n",
    "      optimizer.step()\n",
    "      # compute and store metrics\n",
    "      acc = (torch.argmax(y_pred) == torch.argmax(y_batch)).float().mean()\n",
    "      epoch_loss.append(float(loss))\n",
    "      epoch_acc.append(float(acc))\n",
    "      bar.set_postfix(\n",
    "          loss=float(loss),\n",
    "          acc=float(acc)\n",
    "      )\n",
    "  model.eval()\n",
    "  X_test, y_test = utils.load_testing_data(states=CLASSIFIED_STATES)\n",
    "  y_pred = model(X_test)\n",
    "  ce = loss_fn(y_pred, y_test)\n",
    "  acc = (torch.argmax(y_pred, 1) == torch.argmax(y_test, 1)).float().mean()\n",
    "  ce = float(ce)\n",
    "  acc = float(acc)\n",
    "  train_loss_hist.append(np.mean(epoch_loss))\n",
    "  train_acc_hist.append(np.mean(epoch_acc))\n",
    "  test_loss_hist.append(ce)\n",
    "  test_acc_hist.append(acc)\n",
    "  if acc > best_acc:\n",
    "      best_acc = acc\n",
    "      best_weights = copy.deepcopy(model.state_dict())\n",
    "  print(f\"Epoch {epoch} validation: Cross-entropy={round(ce, 4)}, Accuracy={round(acc, 4)}\")\n",
    "\n",
    "model.load_state_dict(best_weights)"
   ]
  },
  {
   "cell_type": "code",
   "execution_count": 33,
   "metadata": {},
   "outputs": [
    {
     "data": {
      "text/plain": [
       "torch.Size([8, 25, 40])"
      ]
     },
     "execution_count": 33,
     "metadata": {},
     "output_type": "execute_result"
    }
   ],
   "source": [
    "X_batch.shape"
   ]
  },
  {
   "cell_type": "code",
   "execution_count": 34,
   "metadata": {},
   "outputs": [],
   "source": [
    "# %pip install onnx onnxscript\n",
    "# %pip install onnxruntime\n",
    "\n",
    "torch.onnx.export(model,                       # model being run\n",
    "                  X_batch,                         # model input (or a tuple for multiple inputs)\n",
    "                  './exportedModels/BNM005-without-neutral.onnx',            # where to save the model (can be a file or file-like object)\n",
    "                  export_params=True,        # store the trained parameter weights inside the model file\n",
    "                  opset_version=9,           # the ONNX version to export the model to\n",
    "                  do_constant_folding=True,  # whether to execute constant folding for optimization\n",
    "                  input_names = ['X'],       # the model's input names\n",
    "                  output_names = ['Y']       # the model's output names\n",
    "                  )"
   ]
  }
 ],
 "metadata": {
  "kernelspec": {
   "display_name": "base",
   "language": "python",
   "name": "python3"
  },
  "language_info": {
   "codemirror_mode": {
    "name": "ipython",
    "version": 3
   },
   "file_extension": ".py",
   "mimetype": "text/x-python",
   "name": "python",
   "nbconvert_exporter": "python",
   "pygments_lexer": "ipython3",
   "version": "3.11.5"
  }
 },
 "nbformat": 4,
 "nbformat_minor": 2
}
